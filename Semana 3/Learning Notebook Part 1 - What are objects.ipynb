{
 "cells": [
  {
   "cell_type": "markdown",
   "metadata": {},
   "source": [
    "# Part 1: why objects? "
   ]
  },
  {
   "cell_type": "code",
   "execution_count": 1,
   "metadata": {},
   "outputs": [],
   "source": [
    "# We need to keep track of a few things in one go, so dictionary seems alright \n",
    "my_fruits_dict = {\n",
    "    'apples': {\n",
    "        \"name\": 'apples',\n",
    "        \"price_per_unit\": 1,\n",
    "        \"number_of_units\": 10,\n",
    "        \"days_until_expired\": 25\n",
    "    },\n",
    "    'bananas': {\n",
    "        \"name\": 'banana',\n",
    "        \"price_per_unit\": 2,\n",
    "        \"number_of_units\": 6,\n",
    "        \"days_until_expired\": 15\n",
    "    }, \n",
    "    'oranges': {\n",
    "        \"name\": 'orange',\n",
    "        \"price_per_unit\": 3,\n",
    "        \"number_of_units\": 2,\n",
    "        \"days_until_expired\": 20 \n",
    "    },\n",
    "}"
   ]
  },
  {
   "cell_type": "markdown",
   "metadata": {},
   "source": [
    "### Bring in the objects! \n"
   ]
  },
  {
   "cell_type": "code",
   "execution_count": 2,
   "metadata": {},
   "outputs": [],
   "source": [
    "from utils import Fruit"
   ]
  },
  {
   "cell_type": "code",
   "execution_count": 3,
   "metadata": {},
   "outputs": [
    {
     "data": {
      "text/plain": [
       "utils.Fruit"
      ]
     },
     "execution_count": 3,
     "metadata": {},
     "output_type": "execute_result"
    }
   ],
   "source": [
    "Fruit"
   ]
  },
  {
   "cell_type": "markdown",
   "metadata": {},
   "source": [
    "Well, that's kind of boring. Let's just use our \"Fruit thing\" and make some apples. "
   ]
  },
  {
   "cell_type": "code",
   "execution_count": 4,
   "metadata": {},
   "outputs": [],
   "source": [
    "apples = Fruit(name='apples', \n",
    "               price_per_unit=1, \n",
    "               nr_units=10,\n",
    "               days_until_expired=25) "
   ]
  },
  {
   "cell_type": "code",
   "execution_count": 5,
   "metadata": {},
   "outputs": [
    {
     "name": "stdout",
     "output_type": "stream",
     "text": [
      "1\n"
     ]
    }
   ],
   "source": [
    "# what is the price per unit of our apples? \n",
    "print(apples.price_per_unit)"
   ]
  },
  {
   "cell_type": "code",
   "execution_count": 6,
   "metadata": {},
   "outputs": [
    {
     "name": "stdout",
     "output_type": "stream",
     "text": [
      "10\n"
     ]
    }
   ],
   "source": [
    "# How many apples do we have?\n",
    "print(apples.nr_units)"
   ]
  },
  {
   "cell_type": "code",
   "execution_count": 7,
   "metadata": {},
   "outputs": [],
   "source": [
    "oranges = Fruit(name='oranges', \n",
    "                price_per_unit=3, \n",
    "                nr_units=2,\n",
    "                days_until_expired=20)"
   ]
  },
  {
   "cell_type": "code",
   "execution_count": 8,
   "metadata": {},
   "outputs": [],
   "source": [
    "bananas = Fruit(name='bananas', \n",
    "                price_per_unit=2, \n",
    "                nr_units=6,\n",
    "                days_until_expired=7)"
   ]
  },
  {
   "cell_type": "code",
   "execution_count": 10,
   "metadata": {},
   "outputs": [
    {
     "data": {
      "text/plain": [
       "10"
      ]
     },
     "execution_count": 10,
     "metadata": {},
     "output_type": "execute_result"
    }
   ],
   "source": [
    "apples.calculate_price()   # you will learn how to do this soon! "
   ]
  },
  {
   "cell_type": "code",
   "execution_count": 11,
   "metadata": {},
   "outputs": [
    {
     "name": "stdout",
     "output_type": "stream",
     "text": [
      "12\n",
      "6\n"
     ]
    }
   ],
   "source": [
    "print(bananas.calculate_price())\n",
    "print(oranges.calculate_price())"
   ]
  },
  {
   "cell_type": "code",
   "execution_count": null,
   "metadata": {},
   "outputs": [],
   "source": []
  }
 ],
 "metadata": {
  "kernelspec": {
   "display_name": "Python 3",
   "language": "python",
   "name": "python3"
  },
  "language_info": {
   "codemirror_mode": {
    "name": "ipython",
    "version": 3
   },
   "file_extension": ".py",
   "mimetype": "text/x-python",
   "name": "python",
   "nbconvert_exporter": "python",
   "pygments_lexer": "ipython3",
   "version": "3.8.2"
  }
 },
 "nbformat": 4,
 "nbformat_minor": 2
}
