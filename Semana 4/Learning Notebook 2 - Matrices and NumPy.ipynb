{
 "cells": [
  {
   "cell_type": "markdown",
   "metadata": {},
   "source": [
    "# Linear Algebra"
   ]
  },
  {
   "cell_type": "markdown",
   "metadata": {},
   "source": [
    "## 3. Matrices"
   ]
  },
  {
   "cell_type": "markdown",
   "metadata": {},
   "source": [
    "### 3.1 Matrix definition"
   ]
  },
  {
   "cell_type": "markdown",
   "metadata": {},
   "source": [
    "\n",
    "\n",
    "$$\\mathbf{B} = \n",
    "    \\begin{bmatrix} \n",
    "        1 & 2 & 0 & 1\\\\\n",
    "        4 & 6 &-1 & 0\\\\\n",
    "        -2& \\sqrt{2} & 0 & -0.5\\\\\n",
    "     \\end{bmatrix}\n",
    "$$\n",
    "\n"
   ]
  },
  {
   "cell_type": "markdown",
   "metadata": {},
   "source": [
    "<div class=\"alert alert-block alert-info\">\n",
    "    A <b>matrix $\\mathbf{A}$</b> of dimension $m\\times n$ has $m$ rows and $n$ columns and is represented as:\n",
    "    $$\n",
    "    \\mathbf{A} = \n",
    "    \\begin{bmatrix}\n",
    "        a_{1,1} & a_{1,2} & \\cdots & a_{1,n}\\\\\n",
    "        a_{2,1} & a_{2,2} & \\cdots & a_{2,n}\\\\\n",
    "        \\vdots &\\vdots & \\ddots & \\vdots\\\\\n",
    "        a_{m,1} & a_{m,2} & \\cdots & a_{m,n}\\\\\n",
    "    \\end{bmatrix}\n",
    "    $$\n",
    "</div>"
   ]
  },
  {
   "cell_type": "markdown",
   "metadata": {},
   "source": [
    "---"
   ]
  },
  {
   "cell_type": "markdown",
   "metadata": {},
   "source": [
    "### 3.3 Matrix operations: multiplication by scalar and addition"
   ]
  },
  {
   "cell_type": "markdown",
   "metadata": {},
   "source": [
    "#### 3.3.1 Multiplying a matrix by a scalar"
   ]
  },
  {
   "cell_type": "markdown",
   "metadata": {},
   "source": [
    "\n",
    "$$\n",
    "2\\cdot\n",
    "\\begin{bmatrix}\n",
    "    0 & 1 & 0\\\\\n",
    "    -1 & 0.5 & 2\n",
    "\\end{bmatrix}\n",
    "=\n",
    "\\begin{bmatrix}\n",
    "    2\\times 0 & 2\\times 1 & 2\\times 0\\\\\n",
    "    2\\times -1 & 2\\times 0.5 & 2\\times 2\n",
    "\\end{bmatrix}\n",
    "=\n",
    "\\begin{bmatrix}\n",
    "    0 & 2 & 0\\\\\n",
    "    -2 & 1 & 4\n",
    "\\end{bmatrix}\n",
    "$$"
   ]
  },
  {
   "cell_type": "markdown",
   "metadata": {},
   "source": [
    "#### 3.3.2 Addition and subtraction"
   ]
  },
  {
   "cell_type": "markdown",
   "metadata": {},
   "source": [
    "\n",
    "\n",
    "Let's add matrices $\\mathbf{A} = \\begin{bmatrix}1&-1\\\\0&2\\\\-0.5&1\\end{bmatrix}$ and $\\mathbf{B} = \\begin{bmatrix}0.2&-2\\\\-3&1\\\\5&2\\end{bmatrix}$.\n",
    "\n",
    "\n",
    "$\n",
    "\\mathbf{A}\n",
    "+\n",
    "\\mathbf{B} =\n",
    "\\begin{bmatrix}\n",
    "    1 + 0.2 & -1 + (-2)\\\\\n",
    "    0 + (-3) & 2 + 1\\\\\n",
    "    -0.5 + 5 & 1 + 2\n",
    "\\end{bmatrix} =\n",
    "\\begin{bmatrix}\n",
    "    1.2 & -3\\\\\n",
    "    -3 & 3\\\\\n",
    "    4.5 & 3\n",
    "\\end{bmatrix}\n",
    "$\n",
    "\n"
   ]
  },
  {
   "cell_type": "markdown",
   "metadata": {},
   "source": [
    "#### 3.3.3 Properties of matrix addition and multiplication by scalars"
   ]
  },
  {
   "cell_type": "markdown",
   "metadata": {},
   "source": [
    "Similarly to vectors, we have the following properties:\n",
    "\n",
    "$\\;\\;\\text{1. }\\;\\; \\mathbf{A} + \\mathbf{B} = \\mathbf{B} + \\mathbf{A}\\;\\;$ (**commutativity**)\n",
    "\n",
    "$\\;\\;\\text{2. }\\;\\; \\mathbf{A} + \\mathbf{O} = \\mathbf{A}$\n",
    "\n",
    "$\\;\\;\\text{3. }\\;\\; c\\left(\\mathbf{A} + \\mathbf{B}\\right) = c\\mathbf{A} + c\\mathbf{B},\\hspace{.2cm} c\\in \\mathbb{R}$ (**distributivity of a scalar**)\n",
    "\n",
    "$\\;\\;\\text{4. }\\;\\; \\left(cd\\right)\\mathbf{A} = c\\left(d\\mathbf{A}\\right)$\n",
    "\n",
    "$\\;\\;\\text{5. }\\;\\; \\mathbf{A} + (\\mathbf{B} + \\mathbf{C}) = (\\mathbf{A} + \\mathbf{B}) + \\mathbf{C}\\;\\;$ (**associativity**)\n",
    "\n",
    "$\\;\\;\\text{6. }\\;\\; \\mathbf{A} + (-\\mathbf{A}) = \\mathbf{O}$\n",
    "\n",
    "$\\;\\;\\text{7. }\\;\\; (c + d) \\mathbf{A} = c \\mathbf{A} + d \\mathbf{A}$\n",
    "\n",
    "where $\\mathbf{O}$ is the zero matrix, and $c$ and $d$ are scalars."
   ]
  },
  {
   "cell_type": "markdown",
   "metadata": {
    "deletable": false,
    "editable": false
   },
   "source": [
    "Let's check some of the properties of the matrix transpose:\n",
    "\n",
    "$\\;\\;\\text{1. }\\;\\; (\\mathbf{A}+\\mathbf{B})^T = \\mathbf{A}^T+\\mathbf{B}^T$\n",
    "\n",
    "$\\;\\;\\text{2. }\\;\\ (c\\mathbf{A})^T = c\\mathbf{A}^T$\n",
    "\n",
    "$\\;\\;\\text{3. }\\;\\; \\mathbf{A}$ is symmetric if and only if $\\mathbf{\\mathbf{A}} = \\mathbf{A}^T$."
   ]
  },
  {
   "cell_type": "markdown",
   "metadata": {},
   "source": [
    "---"
   ]
  },
  {
   "cell_type": "markdown",
   "metadata": {},
   "source": [
    "## 4. NumPy arrays and matrices"
   ]
  },
  {
   "cell_type": "markdown",
   "metadata": {},
   "source": [
    "### 4.2 Matrices and linear algebra using NumPy"
   ]
  },
  {
   "cell_type": "markdown",
   "metadata": {},
   "source": [
    "#### 4.2.2 Matrix operations"
   ]
  },
  {
   "cell_type": "markdown",
   "metadata": {},
   "source": [
    "**Multiplication by a scalar**"
   ]
  },
  {
   "cell_type": "markdown",
   "metadata": {},
   "source": [
    "Let's bring back our matrix `B`:"
   ]
  },
  {
   "cell_type": "code",
   "execution_count": 6,
   "metadata": {},
   "outputs": [
    {
     "name": "stdout",
     "output_type": "stream",
     "text": [
      "Matrix B:\n",
      "[[-2 -2  1]\n",
      " [ 0  1  1]]\n"
     ]
    }
   ],
   "source": [
    "print(\"Matrix B:\")\n",
    "print(B)"
   ]
  },
  {
   "cell_type": "markdown",
   "metadata": {},
   "source": [
    "To multiply a matrix (2D array) by a scalar, we simply use the Python multiplication operator `*`:"
   ]
  },
  {
   "cell_type": "code",
   "execution_count": 7,
   "metadata": {},
   "outputs": [
    {
     "data": {
      "text/plain": [
       "array([[-1. , -1. ,  0.5],\n",
       "       [ 0. ,  0.5,  0.5]])"
      ]
     },
     "execution_count": 7,
     "metadata": {},
     "output_type": "execute_result"
    }
   ],
   "source": [
    "0.5 * B  # simply use the Python multiplication operator *"
   ]
  },
  {
   "cell_type": "markdown",
   "metadata": {},
   "source": [
    "**Addition (and subtraction) of matrices**"
   ]
  },
  {
   "cell_type": "markdown",
   "metadata": {},
   "source": [
    "Let's bring back our matrices `A` and `B`:"
   ]
  },
  {
   "cell_type": "code",
   "execution_count": 8,
   "metadata": {},
   "outputs": [
    {
     "name": "stdout",
     "output_type": "stream",
     "text": [
      "Matrix A:\n",
      " [[ 2.          0.1        -1.        ]\n",
      " [ 3.          0.2         1.41421356]] \n",
      "\n",
      "Matrix B:\n",
      " [[-2 -2  1]\n",
      " [ 0  1  1]]\n"
     ]
    }
   ],
   "source": [
    "print(\"Matrix A:\\n\", A, \"\\n\")\n",
    "print(\"Matrix B:\\n\", B)"
   ]
  },
  {
   "cell_type": "markdown",
   "metadata": {},
   "source": [
    "To add two matrices (2D arrays) together, we can use Python addition operator `+`, which adds the matrices element-wise:"
   ]
  },
  {
   "cell_type": "code",
   "execution_count": 9,
   "metadata": {
    "scrolled": true
   },
   "outputs": [
    {
     "data": {
      "text/plain": [
       "array([[ 0.        , -1.9       ,  0.        ],\n",
       "       [ 3.        ,  1.2       ,  2.41421356]])"
      ]
     },
     "execution_count": 9,
     "metadata": {},
     "output_type": "execute_result"
    }
   ],
   "source": [
    "A + B  # simply use the Python addition operator +"
   ]
  },
  {
   "cell_type": "markdown",
   "metadata": {},
   "source": [
    "We can do the same for subtraction, using `-`:"
   ]
  },
  {
   "cell_type": "code",
   "execution_count": 10,
   "metadata": {},
   "outputs": [
    {
     "data": {
      "text/plain": [
       "array([[ 4.        ,  2.1       , -2.        ],\n",
       "       [ 3.        , -0.8       ,  0.41421356]])"
      ]
     },
     "execution_count": 10,
     "metadata": {},
     "output_type": "execute_result"
    }
   ],
   "source": [
    "A - B  # simply use the Python subtraction operator -"
   ]
  },
  {
   "cell_type": "markdown",
   "metadata": {},
   "source": [
    "#### 4.3.3 Concatenation"
   ]
  },
  {
   "cell_type": "markdown",
   "metadata": {},
   "source": [
    "We can concatenate numpy arrays along rows or columns, given that their dimensions are compatible:"
   ]
  },
  {
   "cell_type": "code",
   "execution_count": 36,
   "metadata": {
    "scrolled": true
   },
   "outputs": [
    {
     "name": "stdout",
     "output_type": "stream",
     "text": [
      "Matrix A:\n",
      " [[1 2 3]\n",
      " [4 5 6]]\n",
      "Matrix B:\n",
      " [[ 7  8  9]\n",
      " [10 11 12]]\n"
     ]
    }
   ],
   "source": [
    "# create arrays of shape (2, 3)\n",
    "A = np.array([[1, 2, 3], [4, 5, 6]])\n",
    "B = np.array([[7, 8, 9], [10, 11, 12]])\n",
    "\n",
    "print(\"Matrix A:\\n\", A)\n",
    "print(\"Matrix B:\\n\", B)"
   ]
  },
  {
   "cell_type": "code",
   "execution_count": 37,
   "metadata": {},
   "outputs": [
    {
     "data": {
      "text/plain": [
       "array([[ 1,  2,  3],\n",
       "       [ 4,  5,  6],\n",
       "       [ 7,  8,  9],\n",
       "       [10, 11, 12]])"
      ]
     },
     "execution_count": 37,
     "metadata": {},
     "output_type": "execute_result"
    }
   ],
   "source": [
    "np.concatenate((A, B), axis = 0)  # concatenate along axis 0 (rows)"
   ]
  },
  {
   "cell_type": "code",
   "execution_count": 38,
   "metadata": {},
   "outputs": [
    {
     "data": {
      "text/plain": [
       "array([[ 1,  2,  3,  7,  8,  9],\n",
       "       [ 4,  5,  6, 10, 11, 12]])"
      ]
     },
     "execution_count": 38,
     "metadata": {},
     "output_type": "execute_result"
    }
   ],
   "source": [
    "np.concatenate((A, B), axis = 1)  # concatenate along axis 1 (columns)"
   ]
  },
  {
   "cell_type": "markdown",
   "metadata": {},
   "source": [
    "#### 4.3.4 Iterating through arrays"
   ]
  },
  {
   "cell_type": "markdown",
   "metadata": {},
   "source": [
    "You can iterate through the rows of a matrix (2D array):"
   ]
  },
  {
   "cell_type": "code",
   "execution_count": 39,
   "metadata": {
    "scrolled": false
   },
   "outputs": [
    {
     "name": "stdout",
     "output_type": "stream",
     "text": [
      "row 1: [0.  0.2 0.4]\n",
      "row 2: [0.6 0.8 1. ]\n"
     ]
    }
   ],
   "source": [
    "a = np.array([[.0, .2, .4], [.6, .8, 1.]])\n",
    "i = 1\n",
    "for row in a:\n",
    "    print(f\"row {i}: {row}\")\n",
    "    i+=1"
   ]
  },
  {
   "cell_type": "markdown",
   "metadata": {},
   "source": [
    "---"
   ]
  },
  {
   "cell_type": "markdown",
   "metadata": {},
   "source": [
    "<img src=\"./media/enough_is_enough.gif\"/>"
   ]
  },
  {
   "cell_type": "markdown",
   "metadata": {},
   "source": [
    "---"
   ]
  }
 ],
 "metadata": {
  "kernelspec": {
   "display_name": "Python 3",
   "language": "python",
   "name": "python3"
  },
  "language_info": {
   "codemirror_mode": {
    "name": "ipython",
    "version": 3
   },
   "file_extension": ".py",
   "mimetype": "text/x-python",
   "name": "python",
   "nbconvert_exporter": "python",
   "pygments_lexer": "ipython3",
   "version": "3.8.2"
  }
 },
 "nbformat": 4,
 "nbformat_minor": 4
}
