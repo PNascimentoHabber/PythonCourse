{
 "cells": [
  {
   "cell_type": "markdown",
   "metadata": {},
   "source": [
    "# Object Oriented Programming - Inheritance\n",
    "***"
   ]
  },
  {
   "cell_type": "markdown",
   "metadata": {},
   "source": [
    "## Part 1 - Simple Inheritance"
   ]
  },
  {
   "cell_type": "markdown",
   "metadata": {},
   "source": [
    "### 1.1 | What is inheritance?"
   ]
  },
  {
   "cell_type": "markdown",
   "metadata": {},
   "source": [
    "<img src=\"./assets/linux_servers.jpg\" width=\"400\"/>"
   ]
  },
  {
   "cell_type": "markdown",
   "metadata": {},
   "source": [
    "### 1.2 | Parent Classes"
   ]
  },
  {
   "cell_type": "code",
   "execution_count": 2,
   "metadata": {},
   "outputs": [],
   "source": [
    "class Robot:\n",
    "    \n",
    "    def __init__(self, last_name, robot_type=\"generalist\"):\n",
    "        self.last_name = last_name\n",
    "        self.first_name = \"Robot\"\n",
    "        self.robot_type = robot_type\n",
    "        \n",
    "    def hello(self):\n",
    "        print(\"Hi Human, I am \" + self.first_name + \" \" + self.last_name + \". Nice to meet you. :)\")\n",
    "        \n",
    "    def my_type(self):\n",
    "        print(\"I am a \" + self.robot_type + \" Robot! How can I help you?\")"
   ]
  },
  {
   "cell_type": "markdown",
   "metadata": {},
   "source": [
    "After constructing our `Robot` class we can now create a robot called **Tom**:"
   ]
  },
  {
   "cell_type": "code",
   "execution_count": 3,
   "metadata": {},
   "outputs": [
    {
     "name": "stdout",
     "output_type": "stream",
     "text": [
      "Hi Human, I am Robot Tom. Nice to meet you. :)\n",
      "I am a generalist Robot! How can I help you?\n"
     ]
    }
   ],
   "source": [
    "tom = Robot(last_name = \"Tom\")\n",
    "\n",
    "tom.hello()\n",
    "tom.my_type()"
   ]
  },
  {
   "cell_type": "markdown",
   "metadata": {},
   "source": [
    "### 1.3 | Child Classes"
   ]
  },
  {
   "cell_type": "code",
   "execution_count": 4,
   "metadata": {},
   "outputs": [],
   "source": [
    "class Doctor(Robot):\n",
    "    pass"
   ]
  },
  {
   "cell_type": "code",
   "execution_count": 5,
   "metadata": {},
   "outputs": [
    {
     "name": "stdout",
     "output_type": "stream",
     "text": [
      "Hi Human, I am Robot Jerry. Nice to meet you. :)\n",
      "I am a Medical Robot! How can I help you?\n"
     ]
    }
   ],
   "source": [
    "jerry = Doctor(last_name = \"Jerry\", robot_type=\"Medical\")\n",
    "\n",
    "jerry.hello()\n",
    "jerry.my_type()"
   ]
  },
  {
   "cell_type": "markdown",
   "metadata": {},
   "source": [
    "####  New child class methods"
   ]
  },
  {
   "cell_type": "markdown",
   "metadata": {},
   "source": [
    "An example of adding more methods to a Child Class would be the following:"
   ]
  },
  {
   "cell_type": "code",
   "execution_count": 7,
   "metadata": {},
   "outputs": [],
   "source": [
    "class Doctor(Robot):\n",
    "    \n",
    "    def health_check(self):\n",
    "        print(\"You're healthy as a horse! Keep on doing the prep course :)\")"
   ]
  },
  {
   "cell_type": "code",
   "execution_count": 8,
   "metadata": {},
   "outputs": [
    {
     "name": "stdout",
     "output_type": "stream",
     "text": [
      "You're healthy as a horse! Keep on doing the prep course :)\n"
     ]
    }
   ],
   "source": [
    "jerry = Doctor(last_name = \"Jerry\", robot_type=\"Medical\")\n",
    "\n",
    "jerry.health_check()"
   ]
  },
  {
   "cell_type": "markdown",
   "metadata": {},
   "source": [
    "<img src=\"./assets/oop_diagram_v2.jpg\" width=\"400\"/>"
   ]
  }
 ],
 "metadata": {
  "kernelspec": {
   "display_name": "Python 3",
   "language": "python",
   "name": "python3"
  },
  "language_info": {
   "codemirror_mode": {
    "name": "ipython",
    "version": 3
   },
   "file_extension": ".py",
   "mimetype": "text/x-python",
   "name": "python",
   "nbconvert_exporter": "python",
   "pygments_lexer": "ipython3",
   "version": "3.8.2"
  }
 },
 "nbformat": 4,
 "nbformat_minor": 4
}
