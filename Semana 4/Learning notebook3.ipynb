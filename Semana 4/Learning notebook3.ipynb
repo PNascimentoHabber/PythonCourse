{
 "cells": [
  {
   "cell_type": "markdown",
   "metadata": {},
   "source": [
    "# Linear Algebra"
   ]
  },
  {
   "cell_type": "markdown",
   "metadata": {},
   "source": [
    "---"
   ]
  },
  {
   "cell_type": "markdown",
   "metadata": {},
   "source": [
    "## 1. Matrix multiplication"
   ]
  },
  {
   "cell_type": "markdown",
   "metadata": {},
   "source": [
    "### 1.1 Understanding matrix multiplication"
   ]
  },
  {
   "cell_type": "markdown",
   "metadata": {},
   "source": [
    "#### 1.1.1 General formula for matrix multiplication"
   ]
  },
  {
   "cell_type": "markdown",
   "metadata": {},
   "source": [
    "<a name=\"vector_def\"></a>\n",
    "<div class=\"alert alert-block alert-info\">\n",
    "    The result of the <b>multiplication between a matrix</b> $\\mathbf{A}$, of size $m\\times n$, <b>and a matrix</b> $\\mathbf{B}$, of size $n\\times k$, is the matrix $\\mathbf{C}$, of size $m\\times k$, where each entry $c_{i,j}$ corresponds to the dot product between the row vector in row $i$ of $\\mathbf{A}$ and the column vector in column $j$ of $\\mathbf{B}$:\n",
    "    <br>\n",
    "    <br>\n",
    "    $$\\mathbf{C} = \\mathbf{A} \\mathbf{B} = \n",
    "        \\begin{bmatrix}\n",
    "            c_{1,1} & c_{1,2} & \\dots & c_{1,k}\\\\\n",
    "            \\vdots & \\vdots & \\ddots & \\ddots\\\\\n",
    "            c_{m,1} & c_{m,2} & \\dots & c_{m,k}\n",
    "        \\end{bmatrix},\\;\\;\n",
    "        \\text{where}\\;\n",
    "    c_{i,j} = (\\text{row }i\\text{ in }\\mathbf{A})\\cdot (\\text{column }j\\text{ in }\\mathbf{B})\n",
    "    $$\n",
    "    <br>\n",
    "</div>\n"
   ]
  },
  {
   "cell_type": "markdown",
   "metadata": {},
   "source": [
    "\n",
    "\n",
    "<br>\n",
    "\n",
    "$$\\mathbf{C} = \\mathbf{A}\\mathbf{B} = \\begin{bmatrix}\n",
    "            c_{1,1} & c_{1,2} & \\dots & c_{1,k}\\\\\n",
    "            \\vdots & \\vdots & \\ddots & \\vdots\\\\\n",
    "            c_{m,1} & c_{m,2} & \\dots & c_{m,k}\n",
    "        \\end{bmatrix} = \n",
    "        \\begin{bmatrix}\n",
    "            a_{1,1}b_{1,1} + a_{1,2}b_{2,1} + ... + a_{1,n}b_{n,1} & \\dots & a_{1,1}b_{1,k} + a_{1,2}b_{2,k} + ... + a_{1,n}b_{n,k}\\\\\n",
    "            \\vdots & \\ddots & \\vdots\\\\\n",
    "            a_{m,1}b_{1,1} + a_{m,2}b_{2,1} + ... + a_{m,n}b_{n,1} & \\dots & a_{m,1}b_{1,k} + a_{m,2}b_{2,1} + ... + a_{m,n}b_{n,1}\\\\\n",
    "        \\end{bmatrix}$$\n",
    "\n",
    "<br>\n",
    "\n",
    "\n",
    "---\n",
    "\n",
    "**STEP 1**: Compute the dot product between **row 1** in $\\mathbf{A}$ and **each column vector** in $\\mathbf{B}$:\n",
    "\n",
    "\n",
    "---\n",
    "\n",
    "**STEP 2**: Compute the dot product between **row 2** in $\\mathbf{A}$ and **each column vector** in $\\mathbf{B}$, until we fill the **second row** in $\\mathbf{C}$. \n",
    "\n",
    "---\n",
    "\n",
    "**STEP 3**: **Repeat** the same process for each row of $\\mathbf{A}$, until the last one.\n",
    "\n",
    "\n",
    "\n",
    "---"
   ]
  },
  {
   "cell_type": "markdown",
   "metadata": {},
   "source": [
    "---"
   ]
  },
  {
   "cell_type": "markdown",
   "metadata": {},
   "source": [
    "#### 1.1.2 Example:\n",
    "\n",
    "\n",
    "What's the result of multiplying $\\mathbf{A}$ by $\\mathbf{B}$, knowing that $\\mathbf{A} = \\begin{bmatrix} -1 & 2\\\\ 4 & 6\\end{bmatrix}$ and $\\mathbf{B} = \\begin{bmatrix} 0 & 3 & 6\\\\ -2 & 0 & -1\\end{bmatrix}$?\n",
    "\n",
    "$$\\mathbf{M} = \n",
    "    \\begin{bmatrix}\n",
    "        -1\\times 0 + 2\\cdot (-2)  &  -1\\times 3 + 2\\times 0  &  -1\\times 6 + 2\\times (-1)\\\\\n",
    "        4\\times 0 + 6\\cdot (-2)  &  4\\times 3 + 6\\times 0  &  4\\times 6 + 6\\times (-1)\n",
    "    \\end{bmatrix} =\n",
    "    \\begin{bmatrix}\n",
    "        -4 & -3 & -8\\\\\n",
    "        -12 & 12 & 18\n",
    "    \\end{bmatrix}\n",
    "$$"
   ]
  },
  {
   "cell_type": "markdown",
   "metadata": {},
   "source": [
    "---"
   ]
  },
  {
   "cell_type": "markdown",
   "metadata": {},
   "source": [
    "### 1.4 Matrix multiplication using NumPy"
   ]
  },
  {
   "cell_type": "markdown",
   "metadata": {},
   "source": [
    "#### 1.4.1 Multiplying matrices using `numpy.matmul()`"
   ]
  },
  {
   "cell_type": "markdown",
   "metadata": {},
   "source": [
    "As always, NumPy has got us covered. We can multiply two matrices using `np.matmul()`:"
   ]
  },
  {
   "cell_type": "code",
   "execution_count": 2,
   "metadata": {},
   "outputs": [
    {
     "data": {
      "text/plain": [
       "array([[ -4,  -3,  -8],\n",
       "       [-12,  12,  18]])"
      ]
     },
     "execution_count": 2,
     "metadata": {},
     "output_type": "execute_result"
    }
   ],
   "source": [
    "# bring back matrices from our previous example above\n",
    "# 2D array to represent A\n",
    "A = np.array([[-1, 2],\n",
    "              [4, 6]])\n",
    "# 2D array to represent B\n",
    "B = np.array([[0, 3, 6],\n",
    "              [-2, 0, -1]])\n",
    "\n",
    "# numpy.matmul() to multiply A by B\n",
    "C = np.matmul(A, B)\n",
    "C"
   ]
  },
  {
   "cell_type": "markdown",
   "metadata": {
    "deletable": false,
    "editable": false
   },
   "source": [
    "If the resulting matrix above does not match the one we obtained in [our previous example](#1.1.2-Example:), you have a bad instructor."
   ]
  }
 ],
 "metadata": {
  "kernelspec": {
   "display_name": "Python 3",
   "language": "python",
   "name": "python3"
  },
  "language_info": {
   "codemirror_mode": {
    "name": "ipython",
    "version": 3
   },
   "file_extension": ".py",
   "mimetype": "text/x-python",
   "name": "python",
   "nbconvert_exporter": "python",
   "pygments_lexer": "ipython3",
   "version": "3.8.2"
  }
 },
 "nbformat": 4,
 "nbformat_minor": 4
}
