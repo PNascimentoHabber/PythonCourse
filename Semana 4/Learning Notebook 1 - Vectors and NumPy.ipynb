{
 "cells": [
  {
   "cell_type": "markdown",
   "metadata": {},
   "source": [
    "# Linear Algebra"
   ]
  },
  {
   "cell_type": "markdown",
   "metadata": {},
   "source": [
    "### Imports"
   ]
  },
  {
   "cell_type": "code",
   "execution_count": 1,
   "metadata": {
    "ExecuteTime": {
     "end_time": "2020-05-26T15:19:27.478849Z",
     "start_time": "2020-05-26T15:19:27.087986Z"
    }
   },
   "outputs": [],
   "source": [
    "import numpy as np\n",
    "import utils"
   ]
  },
  {
   "cell_type": "markdown",
   "metadata": {},
   "source": [
    "<br>\n",
    "<img src=\"media/ds_without_linalg.jpg\" width=\"580\"/>\n",
    "<br>"
   ]
  },
  {
   "cell_type": "markdown",
   "metadata": {},
   "source": [
    "---"
   ]
  },
  {
   "cell_type": "markdown",
   "metadata": {},
   "source": [
    "## 0. What is Linear Algebra?"
   ]
  },
  {
   "cell_type": "markdown",
   "metadata": {},
   "source": [
    "---"
   ]
  },
  {
   "cell_type": "markdown",
   "metadata": {},
   "source": [
    "<img src=\"./media/one_does_not_simply.jpg\"/>"
   ]
  },
  {
   "cell_type": "markdown",
   "metadata": {},
   "source": [
    "---"
   ]
  },
  {
   "cell_type": "markdown",
   "metadata": {},
   "source": [
    "## 1. Vectors"
   ]
  },
  {
   "cell_type": "markdown",
   "metadata": {},
   "source": [
    "\n",
    "<img src=\"./media/kitten_walking.png\" width=\"600\"/>\n",
    "\n",
    "<img src=\"./media/kitten_vector.PNG\" width=\"200\"/>\n"
   ]
  },
  {
   "cell_type": "markdown",
   "metadata": {},
   "source": [
    "---"
   ]
  },
  {
   "cell_type": "markdown",
   "metadata": {},
   "source": [
    "<img src=\"./media/vector_2d.png\" width=\"240\"/>\n",
    "A = $[-1, 2]$ "
   ]
  },
  {
   "cell_type": "markdown",
   "metadata": {},
   "source": [
    "---"
   ]
  },
  {
   "cell_type": "code",
   "execution_count": 2,
   "metadata": {
    "scrolled": false
   },
   "outputs": [
    {
     "data": {
      "image/png": "[encoded data removed]",
      "text/plain": [
       "<Figure size 1152x288 with 3 Axes>"
      ]
     },
     "metadata": {
      "needs_background": "light"
     },
     "output_type": "display_data"
    }
   ],
   "source": [
    "# run this cell and check the plots below\n",
    "utils.plot_school_functions()"
   ]
  },
  {
   "cell_type": "markdown",
   "metadata": {},
   "source": [
    "---"
   ]
  },
  {
   "cell_type": "markdown",
   "metadata": {},
   "source": [
    "### 1.3 Vector operations: multiplication by scalar and addition"
   ]
  },
  {
   "cell_type": "markdown",
   "metadata": {},
   "source": [
    "#### 1.3.1 Multiplying a vector by a scalar"
   ]
  },
  {
   "cell_type": "markdown",
   "metadata": {},
   "source": [
    "<br><img src=\"./media/vector_scaling.png\" width=\"400\"/>"
   ]
  },
  {
   "cell_type": "markdown",
   "metadata": {},
   "source": [
    "---"
   ]
  },
  {
   "cell_type": "markdown",
   "metadata": {},
   "source": [
    "#### 1.3.2 Addition and subtraction"
   ]
  },
  {
   "cell_type": "markdown",
   "metadata": {},
   "source": [
    "To add two $m$-dimensional vectors, we simply add the corresponding components from each vector.\n",
    "\n",
    "For example, we can add vectors $\\mathbf{u} = \\begin{bmatrix} 1\\\\ 2\\\\\\end{bmatrix}$ and $\\mathbf{v} = \\begin{bmatrix} 3\\\\ 1\\\\\\end{bmatrix}$ as follows: $\\hspace{.2cm} \\mathbf{w} = \\mathbf{u} + \\mathbf{v} = \\begin{bmatrix} 1\\\\ 2\\\\\\end{bmatrix} + $ $\\begin{bmatrix} 3\\\\ 1\\\\\\end{bmatrix} = $ $\\begin{bmatrix} 1 + 3\\\\ 2 + 1\\\\\\end{bmatrix} = $ $\\begin{bmatrix} 4\\\\ 3\\\\\\end{bmatrix}$\n",
    "\n",
    "**Geometrical interpretation:**\n",
    "\n",
    "<img src=\"./media/vector_addition.png\" width=\"340\"/>\n"
   ]
  },
  {
   "cell_type": "markdown",
   "metadata": {
    "deletable": false,
    "editable": false
   },
   "source": [
    "**Properties of vector addition and scalar multiplication (for any $m$-dimensional vectors):**\n",
    "\n",
    "$\\;\\;\\text{1. }\\;\\; \\mathbf{u} + \\mathbf{v} = \\mathbf{v} + \\mathbf{u}$\n",
    "\n",
    "$\\;\\;\\text{2. }\\;\\; \\mathbf{u} + \\mathbf{0} = \\mathbf{u}$\n",
    "\n",
    "$\\;\\;\\text{3. }\\;\\; c\\left(\\mathbf{u} + \\mathbf{v}\\right) = c\\mathbf{u} + c\\mathbf{v},\\hspace{.2cm} c\\in \\mathbb{R}$\n",
    "\n",
    "$\\;\\;\\text{4. }\\;\\; \\left(cd\\right)\\mathbf{u} = c\\left(d\\mathbf{u}\\right),\\hspace{.2cm} c,d \\in \\mathbb{R}$\n",
    "\n",
    "$\\;\\;\\text{5. }\\;\\; \\mathbf{u} + (\\mathbf{v} + \\mathbf{w}) = (\\mathbf{u} + \\mathbf{v}) + \\mathbf{w}$\n",
    "\n",
    "$\\;\\;\\text{6. }\\;\\; \\mathbf{u} + (-\\mathbf{u}) = \\mathbf{0}$\n",
    "\n",
    "$\\;\\;\\text{7. }\\;\\; (c + d) \\mathbf{u} = c \\mathbf{u} + d \\mathbf{u}$\n",
    "\n",
    "$\\;\\;\\text{8. }\\;\\; 1\\mathbf{u} = \\mathbf{u}$"
   ]
  },
  {
   "cell_type": "markdown",
   "metadata": {},
   "source": [
    "### 1.4 Linear combinations and linear independence"
   ]
  },
  {
   "cell_type": "markdown",
   "metadata": {},
   "source": [
    "\n",
    "\n",
    "$$c_1 \\cdot \\begin{bmatrix} u_1\\\\ u_2\\\\ ... \\\\ u_m\\\\\\end{bmatrix}+c_2\\cdot\\begin{bmatrix}v_1\\\\v_2\\\\\\dots\\\\v_m\\\\\\end{bmatrix}=\\begin{bmatrix}c_1\\cdot u_1 + c_2\\cdot v_1\\\\ c_1\\cdot u_2 + c_2\\cdot v_2\\\\ ... \\\\ c_1\\cdot u_m + c_2\\cdot v_m\\\\\\end{bmatrix},\\hspace{.2cm}  c_i\\in \\mathbb{R}$$\n",
    "\n"
   ]
  },
  {
   "cell_type": "markdown",
   "metadata": {},
   "source": [
    "---"
   ]
  },
  {
   "cell_type": "markdown",
   "metadata": {},
   "source": [
    "#### Example\n",
    "\n",
    "For $\\mathbf{v_1} = \\begin{bmatrix}1\\\\-1\\end{bmatrix}$, $\\mathbf{v_2} = \\begin{bmatrix}2\\\\2\\end{bmatrix}$ and $\\mathbf{w} = \\begin{bmatrix}4\\\\0\\end{bmatrix}$, we have $w = 2\\cdot \\mathbf{v_1} + 1\\cdot\\mathbf{v_2}$."
   ]
  },
  {
   "cell_type": "markdown",
   "metadata": {},
   "source": [
    "---"
   ]
  },
  {
   "cell_type": "markdown",
   "metadata": {},
   "source": [
    "**Linear (in)dependence**\n",
    "\n",
    "> 📌 **Tip**: The concept of linear dependence is extremely important in data science!\n",
    "\n",
    "<img src=\"./media/noted.gif\" width=\"500\"/>"
   ]
  },
  {
   "cell_type": "markdown",
   "metadata": {},
   "source": [
    "### 1.5 Representing all vectors in space"
   ]
  },
  {
   "cell_type": "markdown",
   "metadata": {},
   "source": [
    "<img src=\"./media/linear_combinations.png\" width=\"400\"/>\n",
    "\n"
   ]
  },
  {
   "cell_type": "markdown",
   "metadata": {},
   "source": [
    "---"
   ]
  },
  {
   "cell_type": "markdown",
   "metadata": {},
   "source": [
    "### 1.6 Dot product"
   ]
  },
  {
   "cell_type": "markdown",
   "metadata": {},
   "source": [
    "#### 1.6.1 Definition of the dot product"
   ]
  },
  {
   "cell_type": "markdown",
   "metadata": {},
   "source": [
    "\n",
    "<div class=\"alert alert-block alert-info\">\n",
    "    The <b>dot product</b> of two $m$-dimensional vectors $\\mathbf{u}=[u_1, u_2, ..., u_m]$ and $\\mathbf{v}=[v_1, v_2, ..., v_m]$ is a <b>scalar</b> given by:\n",
    "    \n",
    "$$\\mathbf{u}\\cdot \\mathbf{v} = u_1 v_1 + u_2 v_2 + ... + u_m v_m$$\n",
    "</div>"
   ]
  },
  {
   "cell_type": "markdown",
   "metadata": {},
   "source": [
    "Consider the vectors $\\mathbf{a} = [1, 2, 0]$ and $\\mathbf{b} = [-1, 4, -2]$. The dot product between $\\mathbf{a}$ and $\\mathbf{b}$ is:\n",
    "\n",
    "$$\\mathbf{a}\\cdot \\mathbf{b} = 1\\times (-1) + 2\\times 4 + 0\\times (-2) = -1 + 8 + 0 = 7$$"
   ]
  },
  {
   "cell_type": "markdown",
   "metadata": {},
   "source": [
    "---"
   ]
  },
  {
   "cell_type": "markdown",
   "metadata": {},
   "source": [
    "#### 1.6.2 Properties of the dot product"
   ]
  },
  {
   "cell_type": "markdown",
   "metadata": {
    "deletable": false,
    "editable": false
   },
   "source": [
    "You don't need to memorize them all, just know they exist.\n",
    "\n",
    "$\\;\\;\\;\\;\\;\\text{1. }\\;\\; \\mathbf{u} \\cdot \\mathbf{u} = \\|\\mathbf{u}\\|^2$\n",
    "\n",
    "$\\;\\;\\;\\;\\;\\text{2. }\\;\\; \\mathbf{0} \\cdot \\mathbf{u} = \\mathbf{0}$\n",
    "\n",
    "$\\;\\;\\;\\;\\;\\text{3. }\\;\\; \\mathbf{u} \\cdot \\mathbf{v} = \\mathbf{v} \\cdot \\mathbf{u}$\n",
    "\n",
    "$\\;\\;\\;\\;\\;\\text{4. }\\;\\; (c \\mathbf{u}) \\cdot \\mathbf{v} = c (\\mathbf{u} \\cdot \\mathbf{v})$\n",
    "\n",
    "$\\;\\;\\;\\;\\;\\text{5. }\\;\\; \\mathbf{u} \\cdot \\mathbf{v} = \\|\\mathbf{u}\\|\\|\\mathbf{v}\\|\\cos{\\theta}$\n",
    "\n",
    "$\\;\\;\\;\\;\\;\\text{6. }\\;\\; \\mathbf{u} \\cdot (\\mathbf{v} + \\mathbf{w}) = \\mathbf{u} \\cdot \\mathbf{v} + \\mathbf{u} \\cdot \\mathbf{w}$\n",
    "\n",
    "\n",
    "Remember that $c$ is a scalar (non-bold lowercase letter) and $\\mathbf{u}$, $\\mathbf{v}$ and $\\mathbf{w}$ represent vectors (bold lowercase letters). Also, we have here a special vector, the **zero vector**, where all elements are equal to zero, which we denote by $\\mathbf{0}$."
   ]
  },
  {
   "cell_type": "markdown",
   "metadata": {},
   "source": [
    "---"
   ]
  },
  {
   "cell_type": "markdown",
   "metadata": {},
   "source": [
    "## 2. Introduction to NumPy arrays"
   ]
  },
  {
   "cell_type": "markdown",
   "metadata": {},
   "source": [
    "### 2.1 The NumPy package"
   ]
  },
  {
   "cell_type": "markdown",
   "metadata": {},
   "source": [
    "#### 2.1.1 Why NumPy?"
   ]
  },
  {
   "cell_type": "markdown",
   "metadata": {},
   "source": [
    "**Creating a linear combination using NumPy**"
   ]
  },
  {
   "cell_type": "code",
   "execution_count": 4,
   "metadata": {},
   "outputs": [
    {
     "name": "stdout",
     "output_type": "stream",
     "text": [
      "Using NumPy arrays we took 0.041 seconds to perform a linear combination.\n"
     ]
    }
   ],
   "source": [
    "# perform linear combination using NumPy magic\n",
    "numpy_duration = utils.lincomb_numpy()\n",
    "\n",
    "print(\"Using NumPy arrays we took {:.2} seconds to perform a linear combination.\".format(numpy_duration)) "
   ]
  },
  {
   "cell_type": "markdown",
   "metadata": {},
   "source": [
    "**Creating a linear combination using Python lists and `for` loops**"
   ]
  },
  {
   "cell_type": "code",
   "execution_count": 5,
   "metadata": {},
   "outputs": [
    {
     "name": "stdout",
     "output_type": "stream",
     "text": [
      "Using Python lists we took 0.14 seconds to perform a linear combination.\n"
     ]
    }
   ],
   "source": [
    "# perform linear combination using Python lists and for loops\n",
    "python_duration = utils.lincomb_lists()\n",
    "\n",
    "print(\"Using Python lists we took {:.2} seconds to perform a linear combination.\".format(python_duration)) "
   ]
  },
  {
   "cell_type": "markdown",
   "metadata": {},
   "source": [
    "<img src=\"./media/racoon.png\"/>"
   ]
  },
  {
   "cell_type": "markdown",
   "metadata": {},
   "source": [
    "### 2.2 The `ndarray`"
   ]
  },
  {
   "cell_type": "markdown",
   "metadata": {},
   "source": [
    "#### 2.2.1 Create an `ndarray`"
   ]
  },
  {
   "cell_type": "markdown",
   "metadata": {},
   "source": [
    "Let's create an array to represent a vector, using [np.array()](https://numpy.org/doc/1.18/reference/generated/numpy.array.html):"
   ]
  },
  {
   "cell_type": "code",
   "execution_count": 8,
   "metadata": {
    "scrolled": true
   },
   "outputs": [
    {
     "data": {
      "text/plain": [
       "array([0, 1, 2])"
      ]
     },
     "execution_count": 8,
     "metadata": {},
     "output_type": "execute_result"
    }
   ],
   "source": [
    "a = np.array([0, 1, 2])  # create a NumPy array object using the Python list above\n",
    "a"
   ]
  },
  {
   "cell_type": "markdown",
   "metadata": {},
   "source": [
    "You can also create a table of numbers (a matrix) from a list of lists, using `np.array()`:"
   ]
  },
  {
   "cell_type": "code",
   "execution_count": 4,
   "metadata": {
    "ExecuteTime": {
     "end_time": "2020-05-27T15:40:28.107629Z",
     "start_time": "2020-05-27T15:40:28.103640Z"
    }
   },
   "outputs": [
    {
     "name": "stdout",
     "output_type": "stream",
     "text": [
      "[[0 1 2]\n",
      " [3 4 5]\n",
      " [6 7 8]]\n"
     ]
    }
   ],
   "source": [
    "# notice we input 1 list with 3 lists in it\n",
    "b = np.array([[0, 1, 2],  # 1st row\n",
    "              [3, 4, 5],  # 2nd row\n",
    "              [6, 7, 8]])  # 3rd row\n",
    "print(b)  # you can use Python's built-in function print() to print an array"
   ]
  },
  {
   "cell_type": "markdown",
   "metadata": {},
   "source": [
    "---"
   ]
  },
  {
   "cell_type": "markdown",
   "metadata": {},
   "source": [
    "### 2.3 Vectors and linear algebra using NumPy"
   ]
  },
  {
   "cell_type": "markdown",
   "metadata": {},
   "source": [
    "#### 2.3.3 Vector operations (multiplication by scalars and addition)"
   ]
  },
  {
   "cell_type": "code",
   "execution_count": 34,
   "metadata": {},
   "outputs": [
    {
     "name": "stdout",
     "output_type": "stream",
     "text": [
      "u = [1 0 1 1]\n",
      "v = [ 1 -2  0  1]\n",
      "\n"
     ]
    }
   ],
   "source": [
    "# let's create two ndarrays representing 4-dimensional vectors\n",
    "u = np.array([1, 0, 1, 1])\n",
    "v = np.array([1, -2, 0, 1])\n",
    "\n",
    "# print vectors to check your lucky numbers\n",
    "print(f\"u = {u}\")\n",
    "print(f\"v = {v}\\n\")"
   ]
  },
  {
   "cell_type": "markdown",
   "metadata": {},
   "source": [
    "We can use the [numeric operators](https://docs.python.org/3/library/stdtypes.html#numeric-types-int-float-complex) we already know with NumPy."
   ]
  },
  {
   "cell_type": "code",
   "execution_count": 35,
   "metadata": {
    "deletable": false,
    "editable": false
   },
   "outputs": [
    {
     "data": {
      "text/plain": [
       "array([-0.5, -0. , -0.5, -0.5])"
      ]
     },
     "execution_count": 35,
     "metadata": {},
     "output_type": "execute_result"
    }
   ],
   "source": [
    "# multiplication by a scalar\n",
    "-(1/2) * u"
   ]
  },
  {
   "cell_type": "code",
   "execution_count": 36,
   "metadata": {
    "deletable": false,
    "editable": false
   },
   "outputs": [
    {
     "data": {
      "text/plain": [
       "array([ 2, -2,  1,  2])"
      ]
     },
     "execution_count": 36,
     "metadata": {},
     "output_type": "execute_result"
    }
   ],
   "source": [
    "# addition\n",
    "u + v"
   ]
  },
  {
   "cell_type": "code",
   "execution_count": 37,
   "metadata": {
    "deletable": false,
    "editable": false,
    "scrolled": true
   },
   "outputs": [
    {
     "data": {
      "text/plain": [
       "array([ 0.5, -2. , -0.5,  0.5])"
      ]
     },
     "execution_count": 37,
     "metadata": {},
     "output_type": "execute_result"
    }
   ],
   "source": [
    "# linear combination\n",
    "(-(1/2) * u)  + (1 * v)"
   ]
  },
  {
   "cell_type": "markdown",
   "metadata": {},
   "source": [
    "#### 2.3.4 Dot product"
   ]
  },
  {
   "cell_type": "markdown",
   "metadata": {},
   "source": [
    "Finally, the [dot product](#Properties-of-the-dot-product):\n",
    "$$\\mathbf{u} \\cdot \\mathbf{v} = u_1 v_1 + ... + u_m v_m$$"
   ]
  },
  {
   "cell_type": "code",
   "execution_count": 38,
   "metadata": {},
   "outputs": [
    {
     "data": {
      "text/plain": [
       "6"
      ]
     },
     "execution_count": 38,
     "metadata": {},
     "output_type": "execute_result"
    }
   ],
   "source": [
    "# create two vectors using numpy arrays\n",
    "u = np.array([-1, 2, 2])  # row vector, 1D array\n",
    "v = np.array([-2, 1, 1])  # row vector, 1D array\n",
    "\n",
    "# determine the dot product between vectors u and v\n",
    "np.dot(u, v)"
   ]
  },
  {
   "cell_type": "code",
   "execution_count": 40,
   "metadata": {},
   "outputs": [
    {
     "data": {
      "text/plain": [
       "6"
      ]
     },
     "execution_count": 40,
     "metadata": {},
     "output_type": "execute_result"
    }
   ],
   "source": [
    "# let's check those results \"by hand\", because we love linear algebra!\n",
    "((-1) * (-2)) + (2 * 1) + (2 * 1)"
   ]
  },
  {
   "cell_type": "markdown",
   "metadata": {},
   "source": [
    "---"
   ]
  },
  {
   "cell_type": "markdown",
   "metadata": {},
   "source": [
    "<img src=\"./media/breathe_in.gif\"/>"
   ]
  },
  {
   "cell_type": "markdown",
   "metadata": {},
   "source": [
    "---"
   ]
  }
 ],
 "metadata": {
  "kernelspec": {
   "display_name": "Python 3",
   "language": "python",
   "name": "python3"
  },
  "language_info": {
   "codemirror_mode": {
    "name": "ipython",
    "version": 3
   },
   "file_extension": ".py",
   "mimetype": "text/x-python",
   "name": "python",
   "nbconvert_exporter": "python",
   "pygments_lexer": "ipython3",
   "version": "3.8.2"
  }
 },
 "nbformat": 4,
 "nbformat_minor": 4
}
