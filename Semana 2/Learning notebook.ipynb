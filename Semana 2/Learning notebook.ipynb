{
 "cells": [
  {
   "cell_type": "markdown",
   "metadata": {},
   "source": [
    "# Flow Control"
   ]
  },
  {
   "cell_type": "markdown",
   "metadata": {},
   "source": [
    "## Comparison operators"
   ]
  },
  {
   "cell_type": "code",
   "execution_count": 1,
   "metadata": {},
   "outputs": [
    {
     "name": "stdout",
     "output_type": "stream",
     "text": [
      "Is 1 == 1?  True\n",
      "Is 1 == 2?  False\n"
     ]
    }
   ],
   "source": [
    "print(\"Is 1 == 1? \", 1 == 1)\n",
    "print(\"Is 1 == 2? \", 1 == 2)"
   ]
  },
  {
   "cell_type": "code",
   "execution_count": 2,
   "metadata": {},
   "outputs": [
    {
     "name": "stdout",
     "output_type": "stream",
     "text": [
      "True\n",
      "False\n"
     ]
    }
   ],
   "source": [
    "#The arithmetic operator + has higher precedence and is performed first. \n",
    "print(3 == 1 + 2)\n",
    "\n",
    "#The comparison operator == has higher precedence and is performed first.\n",
    "var = 1 == 2\n",
    "print(var)"
   ]
  },
  {
   "cell_type": "code",
   "execution_count": 3,
   "metadata": {},
   "outputs": [
    {
     "data": {
      "text/plain": [
       "False"
      ]
     },
     "execution_count": 3,
     "metadata": {},
     "output_type": "execute_result"
    }
   ],
   "source": [
    "counter = 4\n",
    "limit = 5\n",
    "counter == limit"
   ]
  },
  {
   "cell_type": "markdown",
   "metadata": {},
   "source": [
    "The other comparison operators that you can use are:\n",
    "- `>` aka *greater than* \n",
    "- `>=` aka *greater than or equal to*\n",
    "- `<` aka *less than*\n",
    "- `<=` aka *less than or equal to*\n",
    "- `!=` aka *not equal to*"
   ]
  },
  {
   "cell_type": "code",
   "execution_count": 4,
   "metadata": {},
   "outputs": [
    {
     "name": "stdout",
     "output_type": "stream",
     "text": [
      "True\n",
      "False\n"
     ]
    }
   ],
   "source": [
    "print(\"The safe word is Banana!\" == \"The safe word is Banana!\")\n",
    "\n",
    "print(\"The safe word is Banana!\" != \"The safe word is Banana!\")"
   ]
  },
  {
   "cell_type": "markdown",
   "metadata": {},
   "source": [
    "---"
   ]
  },
  {
   "cell_type": "code",
   "execution_count": 5,
   "metadata": {},
   "outputs": [
    {
     "name": "stdout",
     "output_type": "stream",
     "text": [
      "True\n"
     ]
    }
   ],
   "source": [
    "#Both strings start with 'pyro' but the second has additional characters.\n",
    "print('pyro' < 'pyromaniac')"
   ]
  },
  {
   "cell_type": "markdown",
   "metadata": {},
   "source": [
    "---"
   ]
  },
  {
   "cell_type": "markdown",
   "metadata": {},
   "source": [
    "---"
   ]
  },
  {
   "cell_type": "code",
   "execution_count": 11,
   "metadata": {},
   "outputs": [
    {
     "name": "stdout",
     "output_type": "stream",
     "text": [
      "Is \"10\" == 10? False\n",
      "Is \"10\" != 10? True\n"
     ]
    },
    {
     "ename": "TypeError",
     "evalue": "'>=' not supported between instances of 'str' and 'int'",
     "output_type": "error",
     "traceback": [
      "\u001b[0;31m---------------------------------------------------------------------------\u001b[0m",
      "\u001b[0;31mTypeError\u001b[0m                                 Traceback (most recent call last)",
      "\u001b[0;32m<ipython-input-11-43c3096e09ba>\u001b[0m in \u001b[0;36m<module>\u001b[0;34m\u001b[0m\n\u001b[1;32m      1\u001b[0m \u001b[0mprint\u001b[0m\u001b[0;34m(\u001b[0m\u001b[0;34m\"Is \\\"10\\\" == 10? {}\"\u001b[0m\u001b[0;34m.\u001b[0m\u001b[0mformat\u001b[0m\u001b[0;34m(\u001b[0m\u001b[0;34m\"10\"\u001b[0m \u001b[0;34m==\u001b[0m \u001b[0;36m10\u001b[0m\u001b[0;34m)\u001b[0m\u001b[0;34m)\u001b[0m\u001b[0;34m\u001b[0m\u001b[0;34m\u001b[0m\u001b[0m\n\u001b[1;32m      2\u001b[0m \u001b[0mprint\u001b[0m\u001b[0;34m(\u001b[0m\u001b[0;34m\"Is \\\"10\\\" != 10? {}\"\u001b[0m\u001b[0;34m.\u001b[0m\u001b[0mformat\u001b[0m\u001b[0;34m(\u001b[0m\u001b[0;34m\"10\"\u001b[0m \u001b[0;34m!=\u001b[0m \u001b[0;36m10\u001b[0m\u001b[0;34m)\u001b[0m\u001b[0;34m)\u001b[0m\u001b[0;34m\u001b[0m\u001b[0;34m\u001b[0m\u001b[0m\n\u001b[0;32m----> 3\u001b[0;31m \u001b[0mprint\u001b[0m\u001b[0;34m(\u001b[0m\u001b[0;34m\"Is \\\"10\\\" >= 10? {}\"\u001b[0m\u001b[0;34m.\u001b[0m\u001b[0mformat\u001b[0m\u001b[0;34m(\u001b[0m\u001b[0;34m\"10\"\u001b[0m \u001b[0;34m>=\u001b[0m \u001b[0;36m10\u001b[0m\u001b[0;34m)\u001b[0m\u001b[0;34m)\u001b[0m\u001b[0;34m\u001b[0m\u001b[0;34m\u001b[0m\u001b[0m\n\u001b[0m",
      "\u001b[0;31mTypeError\u001b[0m: '>=' not supported between instances of 'str' and 'int'"
     ]
    }
   ],
   "source": [
    "print(\"Is \\\"10\\\" == 10? {}\".format(\"10\" == 10))\n",
    "print(\"Is \\\"10\\\" != 10? {}\".format(\"10\" != 10))\n",
    "print(\"Is \\\"10\\\" >= 10? {}\".format(\"10\" >= 10))"
   ]
  },
  {
   "cell_type": "markdown",
   "metadata": {},
   "source": [
    "---"
   ]
  },
  {
   "cell_type": "markdown",
   "metadata": {},
   "source": [
    "## Combining multiple conditions with boolean algebra"
   ]
  },
  {
   "cell_type": "markdown",
   "metadata": {},
   "source": [
    "---"
   ]
  },
  {
   "cell_type": "code",
   "execution_count": 12,
   "metadata": {},
   "outputs": [
    {
     "name": "stdout",
     "output_type": "stream",
     "text": [
      "True\n",
      "False\n"
     ]
    }
   ],
   "source": [
    "#Both the left and right conditions are True. The and operator returns True.\n",
    "print(1 == 1 and 3.5 > 2.2)\n",
    "\n",
    "#The left condition is True but the right condition is False. The and operator returns False.\n",
    "print(3 >= 3 and \"Banana\" == \"banana\")"
   ]
  },
  {
   "cell_type": "markdown",
   "metadata": {},
   "source": [
    "---"
   ]
  },
  {
   "cell_type": "code",
   "execution_count": 13,
   "metadata": {},
   "outputs": [
    {
     "name": "stdout",
     "output_type": "stream",
     "text": [
      "False\n",
      "True\n"
     ]
    }
   ],
   "source": [
    "#Both the left and right conditions are False. The or operator returns False.\n",
    "print(1 != 1 or 3.5 < 2.2)\n",
    "\n",
    "#The left condition is True but the right condition is False. The or operator returns True.\n",
    "print(3 >= 3 or \"Banana\" == \"banana\")"
   ]
  },
  {
   "cell_type": "code",
   "execution_count": 1,
   "metadata": {
    "ExecuteTime": {
     "end_time": "2020-05-13T17:15:31.136561Z",
     "start_time": "2020-05-13T17:15:31.120559Z"
    }
   },
   "outputs": [
    {
     "name": "stdout",
     "output_type": "stream",
     "text": [
      "False\n",
      "True\n"
     ]
    }
   ],
   "source": [
    "print(not True)\n",
    "\n",
    "print(not 1 != 1)"
   ]
  },
  {
   "cell_type": "markdown",
   "metadata": {},
   "source": [
    "---"
   ]
  },
  {
   "cell_type": "markdown",
   "metadata": {},
   "source": [
    "## Controlling code execution with `if`, `elif` and `else` statements"
   ]
  },
  {
   "cell_type": "markdown",
   "metadata": {},
   "source": [
    "---"
   ]
  },
  {
   "cell_type": "markdown",
   "metadata": {},
   "source": [
    "### `if` statement"
   ]
  },
  {
   "cell_type": "markdown",
   "metadata": {},
   "source": [
    "```python\n",
    "initial_code\n",
    "\n",
    "if condition:\n",
    "    code_to_execute\n",
    "    \n",
    "final_code\n",
    "```"
   ]
  },
  {
   "cell_type": "code",
   "execution_count": 23,
   "metadata": {},
   "outputs": [
    {
     "name": "stdout",
     "output_type": "stream",
     "text": [
      "What should I do today?\n",
      "I'm going for a walk.\n",
      "It is decided then!\n"
     ]
    }
   ],
   "source": [
    "weather = \"Sunny\"\n",
    "print(\"What should I do today?\")\n",
    "\n",
    "if weather == \"Sunny\":\n",
    "    print(\"I'm going for a walk.\")\n",
    "    \n",
    "print(\"It is decided then!\")"
   ]
  },
  {
   "cell_type": "code",
   "execution_count": 24,
   "metadata": {},
   "outputs": [
    {
     "name": "stdout",
     "output_type": "stream",
     "text": [
      "What should I do today?\n",
      "It is decided then!\n"
     ]
    }
   ],
   "source": [
    "weather = \"Rainy\"\n",
    "print(\"What should I do today?\")\n",
    "\n",
    "if weather == \"Sunny\":\n",
    "    print(\"I'm going for a walk.\")\n",
    "    \n",
    "print(\"It is decided then!\")"
   ]
  },
  {
   "cell_type": "code",
   "execution_count": 25,
   "metadata": {},
   "outputs": [
    {
     "name": "stdout",
     "output_type": "stream",
     "text": [
      "What should I do today?\n",
      "I'm going to stay home.\n",
      "It is decided then!\n"
     ]
    }
   ],
   "source": [
    "weather = \"Rainy\"\n",
    "print(\"What should I do today?\")\n",
    "\n",
    "if weather == \"Sunny\":\n",
    "    print(\"I'm going for a walk.\") #Execute if Sunny.\n",
    "    \n",
    "if weather == \"Rainy\":\n",
    "    print(\"I'm going to stay home.\") #Execute if Rainy.  \n",
    "    \n",
    "print(\"It is decided then!\")"
   ]
  },
  {
   "cell_type": "markdown",
   "metadata": {},
   "source": [
    "### `else` statement"
   ]
  },
  {
   "cell_type": "markdown",
   "metadata": {},
   "source": [
    "```python\n",
    "initial_code\n",
    "\n",
    "if condition:\n",
    "    code_to_execute1\n",
    "else:\n",
    "    code_to_execute2\n",
    "    \n",
    "final_code\n",
    "```"
   ]
  },
  {
   "cell_type": "code",
   "execution_count": 26,
   "metadata": {},
   "outputs": [
    {
     "name": "stdout",
     "output_type": "stream",
     "text": [
      "What should I do today?\n",
      "I'm going to stay home.\n",
      "It is decided then!\n"
     ]
    }
   ],
   "source": [
    "weather = \"Rainy\"\n",
    "print(\"What should I do today?\")\n",
    "\n",
    "if weather == \"Sunny\":\n",
    "    print(\"I'm going for a walk.\") #Execute if Sunny.\n",
    "else:\n",
    "    print(\"I'm going to stay home.\") #Execute if NOT Sunny.\n",
    "print(\"It is decided then!\")"
   ]
  },
  {
   "cell_type": "markdown",
   "metadata": {},
   "source": [
    "### `elif` statement"
   ]
  },
  {
   "cell_type": "markdown",
   "metadata": {},
   "source": [
    "```python\n",
    "initial_code\n",
    "\n",
    "if condition1:\n",
    "    code_to_execute1\n",
    "elif condition2:\n",
    "    code_to_execute2\n",
    "else:\n",
    "    code_to_execute3\n",
    "    \n",
    "final_code\n",
    "```"
   ]
  },
  {
   "cell_type": "code",
   "execution_count": 27,
   "metadata": {
    "scrolled": true
   },
   "outputs": [
    {
     "name": "stdout",
     "output_type": "stream",
     "text": [
      "What should I do today?\n",
      "I'm going to stay home.\n",
      "It is decided then!\n"
     ]
    }
   ],
   "source": [
    "weather = \"Rainy\"\n",
    "print(\"What should I do today?\")\n",
    "\n",
    "if weather == \"Sunny\":\n",
    "    print(\"I'm going for a walk.\") #Execute if Sunny.\n",
    "elif weather == \"Rainy\":\n",
    "    print(\"I'm going to stay home.\") #Execute if Rainy.\n",
    "else:\n",
    "    print(\"I'm going shopping.\")\n",
    "print(\"It is decided then!\")"
   ]
  },
  {
   "cell_type": "code",
   "execution_count": 29,
   "metadata": {},
   "outputs": [
    {
     "name": "stdout",
     "output_type": "stream",
     "text": [
      "Larger than 100\n"
     ]
    }
   ],
   "source": [
    "number = 999\n",
    "how_large = \"Large Number\"\n",
    "\n",
    "if number > 100:\n",
    "    how_large = \"Larger than 100\"\n",
    "elif number > 50:\n",
    "    how_large = \"Larger than 50\"\n",
    "else:\n",
    "    how_large = \"Smaller than or equal to 50\"\n",
    "    \n",
    "print(how_large)"
   ]
  },
  {
   "cell_type": "markdown",
   "metadata": {},
   "source": [
    "```python\n",
    "initial_code\n",
    "\n",
    "if condition1:\n",
    "    code_to_execute1\n",
    "elif condition2:\n",
    "    code_to_execute2\n",
    "elif condition3:\n",
    "    code_to_execute3\n",
    "elif condition4:\n",
    "    code_to_execute4\n",
    "else:\n",
    "    code_to_execute5\n",
    "    \n",
    "final_code\n",
    "```"
   ]
  },
  {
   "cell_type": "markdown",
   "metadata": {},
   "source": [
    "### Nested `if` statements"
   ]
  },
  {
   "cell_type": "code",
   "execution_count": 2,
   "metadata": {
    "ExecuteTime": {
     "end_time": "2020-05-13T17:24:58.122887Z",
     "start_time": "2020-05-13T17:24:58.114895Z"
    }
   },
   "outputs": [
    {
     "name": "stdout",
     "output_type": "stream",
     "text": [
      "What should I do today?\n",
      "I'm going to stay home.\n",
      "It is decided then!\n"
     ]
    }
   ],
   "source": [
    "weather = \"Rainy\"\n",
    "hour_day = 15\n",
    "print(\"What should I do today?\")\n",
    "\n",
    "if weather == \"Sunny\":\n",
    "#A\n",
    "    if hour_day < 19:\n",
    "        print(\"I'm going for a walk.\")    \n",
    "    else:\n",
    "        print(\"I'm going to the movies.\")\n",
    "#B\n",
    "\n",
    "elif weather == \"Rainy\":\n",
    "#C    \n",
    "    if hour_day > 14:\n",
    "        print(\"I'm going to stay home.\")\n",
    "    else:\n",
    "        print(\"I'm going shopping.\")\n",
    "#D\n",
    "print(\"It is decided then!\")"
   ]
  },
  {
   "cell_type": "markdown",
   "metadata": {},
   "source": [
    "---"
   ]
  },
  {
   "cell_type": "markdown",
   "metadata": {},
   "source": [
    "### Further reading"
   ]
  },
  {
   "cell_type": "markdown",
   "metadata": {},
   "source": [
    "[W3School on conditionals](https://www.w3schools.com/python/python_conditions.asp)\n",
    "\n",
    "[DataCamp on conditionals](https://www.datacamp.com/community/tutorials/python-if-elif-else)\n",
    "\n",
    "[Programiz on flow control](https://www.programiz.com/python-programming/if-elif-else)\n",
    "\n",
    "[GeeksforGeeks on conditionals](https://www.geeksforgeeks.org/decision-making-python-else-nested-elif/?ref=lbp)\n",
    "\n",
    "[Tutorialpoints on conditionals](https://www.tutorialspoint.com/python/python_decision_making.htm)\n",
    "\n",
    "[Real Python on conditionals](https://realpython.com/courses/python-conditional-statements/)"
   ]
  },
  {
   "cell_type": "markdown",
   "metadata": {},
   "source": [
    "---"
   ]
  },
  {
   "cell_type": "markdown",
   "metadata": {},
   "source": [
    "## Repeating executions with loops"
   ]
  },
  {
   "cell_type": "markdown",
   "metadata": {},
   "source": [
    "## `while` loop"
   ]
  },
  {
   "cell_type": "markdown",
   "metadata": {},
   "source": [
    "```python\n",
    "while condition:\n",
    "    code\n",
    "```"
   ]
  },
  {
   "cell_type": "markdown",
   "metadata": {},
   "source": [
    "---"
   ]
  },
  {
   "cell_type": "markdown",
   "metadata": {},
   "source": [
    "```python\n",
    "while True:\n",
    "    print(\"This will never stop.\")\n",
    "```"
   ]
  },
  {
   "cell_type": "code",
   "execution_count": 6,
   "metadata": {
    "ExecuteTime": {
     "end_time": "2020-05-13T17:31:39.214444Z",
     "start_time": "2020-05-13T17:31:39.210446Z"
    }
   },
   "outputs": [
    {
     "name": "stdout",
     "output_type": "stream",
     "text": [
      "It can be divided 4 times.\n"
     ]
    }
   ],
   "source": [
    "\n",
    "dividend = 134\n",
    "\n",
    "counter = 0\n",
    "\n",
    "while dividend > 3:\n",
    "    \n",
    "    \n",
    "    dividend = dividend / 3 \n",
    "    \n",
    "    \n",
    "    counter = counter + 1\n",
    "    \n",
    "print(\"It can be divided {} time{}.\".format(counter, \"s\" * int(counter > 1)))"
   ]
  },
  {
   "cell_type": "code",
   "execution_count": 7,
   "metadata": {
    "ExecuteTime": {
     "end_time": "2020-05-13T17:31:49.250013Z",
     "start_time": "2020-05-13T17:31:49.246005Z"
    }
   },
   "outputs": [],
   "source": [
    "# dividend = dividend / 3\n",
    "# print(dividend)\n",
    "# counter = 1"
   ]
  },
  {
   "cell_type": "markdown",
   "metadata": {},
   "source": [
    "## `for` loop"
   ]
  },
  {
   "cell_type": "code",
   "execution_count": 37,
   "metadata": {},
   "outputs": [
    {
     "name": "stdout",
     "output_type": "stream",
     "text": [
      "0\n",
      "1\n",
      "2\n",
      "3\n",
      "4\n",
      "5\n"
     ]
    }
   ],
   "source": [
    "for number in range(6):\n",
    "    print(number)"
   ]
  },
  {
   "cell_type": "code",
   "execution_count": 9,
   "metadata": {
    "ExecuteTime": {
     "end_time": "2020-05-13T17:35:19.990113Z",
     "start_time": "2020-05-13T17:35:19.985118Z"
    }
   },
   "outputs": [
    {
     "name": "stdout",
     "output_type": "stream",
     "text": [
      "2\n",
      "3\n",
      "4\n",
      "2\n",
      "4\n",
      "6\n",
      "8\n",
      "10\n"
     ]
    }
   ],
   "source": [
    "for i in range(2,5,1):\n",
    "    print(i)\n",
    "\n",
    "for j in range(2,11,2):\n",
    "    print(j)"
   ]
  },
  {
   "cell_type": "markdown",
   "metadata": {},
   "source": [
    "---"
   ]
  },
  {
   "cell_type": "markdown",
   "metadata": {},
   "source": [
    "## `for` loops with lists and tuples"
   ]
  },
  {
   "cell_type": "code",
   "execution_count": 44,
   "metadata": {},
   "outputs": [
    {
     "name": "stdout",
     "output_type": "stream",
     "text": [
      "Gillet\n",
      "Troller\n",
      "SIN Cars\n",
      "Dadi\n",
      "Pininfarina\n",
      "Lada\n",
      "Puma\n",
      "Ginetta\n"
     ]
    }
   ],
   "source": [
    "car_brands = [\"Gillet\", \"Troller\", \"SIN Cars\", \"Dadi\", \"Pininfarina\", \"Lada\", \"Puma\", \"Ginetta\"]\n",
    "for brand in car_brands:\n",
    "    print(brand)"
   ]
  },
  {
   "cell_type": "code",
   "execution_count": 47,
   "metadata": {},
   "outputs": [
    {
     "name": "stdout",
     "output_type": "stream",
     "text": [
      "Gillet\n",
      "Troller\n",
      "SIN Cars\n",
      "Dadi\n",
      "Pininfarina\n",
      "Lada\n",
      "Puma\n",
      "Ginetta\n"
     ]
    }
   ],
   "source": [
    "car_brands_tuple = (\"Gillet\", \"Troller\", \"SIN Cars\", \"Dadi\", \"Pininfarina\", \"Lada\", \"Puma\", \"Ginetta\")\n",
    "for brand in car_brands_tuple:\n",
    "    print(brand)"
   ]
  },
  {
   "cell_type": "markdown",
   "metadata": {},
   "source": [
    "---"
   ]
  },
  {
   "cell_type": "markdown",
   "metadata": {},
   "source": [
    "## `for` loops  with dictionaries"
   ]
  },
  {
   "cell_type": "code",
   "execution_count": 48,
   "metadata": {},
   "outputs": [
    {
     "name": "stdout",
     "output_type": "stream",
     "text": [
      "Pac-Man\n",
      "Tetris\n",
      "The Legend of Zelda\n",
      "Street Fighter\n",
      "Sonic the Hedgehog\n"
     ]
    }
   ],
   "source": [
    "game_release_year = {\"Pac-Man\":1980,\n",
    "                     \"Tetris\":1984,\n",
    "                     \"The Legend of Zelda\":1986,\n",
    "                     \"Street Fighter\": 1987,\n",
    "                    \"Sonic the Hedgehog\":1991\n",
    "                    }\n",
    "\n",
    "for games in game_release_year.keys():\n",
    "    print(games)"
   ]
  },
  {
   "cell_type": "markdown",
   "metadata": {},
   "source": [
    "---"
   ]
  },
  {
   "cell_type": "markdown",
   "metadata": {},
   "source": [
    "## Interrupting loops with the `continue` and `break` statements"
   ]
  },
  {
   "cell_type": "markdown",
   "metadata": {},
   "source": [
    "---"
   ]
  },
  {
   "cell_type": "markdown",
   "metadata": {},
   "source": [
    "### `continue` statement"
   ]
  },
  {
   "cell_type": "code",
   "execution_count": 56,
   "metadata": {},
   "outputs": [
    {
     "name": "stdout",
     "output_type": "stream",
     "text": [
      "1\n",
      "3\n",
      "5\n",
      "7\n",
      "9\n"
     ]
    }
   ],
   "source": [
    "for i in range(10):\n",
    "    if i % 2 == 0:\n",
    "        continue\n",
    "    print(i)"
   ]
  },
  {
   "cell_type": "markdown",
   "metadata": {},
   "source": [
    "---"
   ]
  },
  {
   "cell_type": "markdown",
   "metadata": {},
   "source": [
    "### `break` statement"
   ]
  },
  {
   "cell_type": "code",
   "execution_count": 58,
   "metadata": {},
   "outputs": [
    {
     "name": "stdout",
     "output_type": "stream",
     "text": [
      "0\n",
      "1\n",
      "2\n",
      "3\n",
      "4\n",
      "5\n"
     ]
    }
   ],
   "source": [
    "for i in range(10):\n",
    "    if i >= 6:\n",
    "        break\n",
    "    print(i)"
   ]
  },
  {
   "cell_type": "code",
   "execution_count": 10,
   "metadata": {
    "ExecuteTime": {
     "end_time": "2020-05-13T17:39:25.421899Z",
     "start_time": "2020-05-13T17:39:25.412909Z"
    }
   },
   "outputs": [
    {
     "name": "stdout",
     "output_type": "stream",
     "text": [
      "0 A\n",
      "0 B\n",
      "0 C\n",
      "1 A\n",
      "1 B\n",
      "1 C\n",
      "2 A\n",
      "2 B\n",
      "2 C\n",
      "3 A\n",
      "3 B\n",
      "3 C\n",
      "4 A\n",
      "4 B\n",
      "4 C\n"
     ]
    }
   ],
   "source": [
    "for i in range(5):\n",
    "    for j in [\"A\", \"B\", \"C\", \"D\", \"E\", \"F\"]:\n",
    "        if j == \"D\":\n",
    "            break\n",
    "        print(i,j)"
   ]
  },
  {
   "cell_type": "markdown",
   "metadata": {},
   "source": [
    "### Further Reading"
   ]
  },
  {
   "cell_type": "markdown",
   "metadata": {},
   "source": [
    "[W3School on while loops](https://www.w3schools.com/python/python_while_loops.asp)\n",
    "\n",
    "[W3School on for loops](https://www.w3schools.com/python/python_for_loops.asp)\n",
    "\n",
    "[DataCamp on loops](https://www.datacamp.com/community/tutorials/loops-python-tutorial)\n",
    "\n",
    "[Programiz on flow control](https://www.programiz.com/python-programming/if-elif-else)\n",
    "\n",
    "[GeeksforGeeks on loops](https://www.geeksforgeeks.org/loops-in-python/?ref=lbp)\n",
    "\n",
    "[Tutorialpoints on loops](https://www.tutorialspoint.com/python/python_loops.htm)\n",
    "\n",
    "[Real Python on while loops](https://realpython.com/courses/mastering-while-loops/)\n",
    "\n",
    "[Real Python on for loops](https://realpython.com/courses/python-for-loop/)\n",
    "\n",
    "[Python documentation on the continue and break statements and else in loops](https://docs.python.org/3.7/tutorial/controlflow.html#break-and-continue-statements-and-else-clauses-on-loops)"
   ]
  },
  {
   "cell_type": "markdown",
   "metadata": {},
   "source": [
    "---"
   ]
  },
  {
   "cell_type": "markdown",
   "metadata": {},
   "source": [
    "# Building lists with List comprehension"
   ]
  },
  {
   "cell_type": "code",
   "execution_count": 65,
   "metadata": {},
   "outputs": [
    {
     "data": {
      "text/plain": [
       "[0, 1, 4, 9, 16, 25, 36, 49, 64, 81]"
      ]
     },
     "execution_count": 65,
     "metadata": {},
     "output_type": "execute_result"
    }
   ],
   "source": [
    "comprehension_list = [i ** 2 for i in range(10)]\n",
    "comprehension_list"
   ]
  },
  {
   "cell_type": "markdown",
   "metadata": {},
   "source": [
    "---"
   ]
  },
  {
   "cell_type": "markdown",
   "metadata": {},
   "source": [
    "### Multiple `for` loops"
   ]
  },
  {
   "cell_type": "code",
   "execution_count": 9,
   "metadata": {
    "ExecuteTime": {
     "end_time": "2020-05-13T11:53:09.617937Z",
     "start_time": "2020-05-13T11:53:09.615935Z"
    }
   },
   "outputs": [],
   "source": [
    "#Squares are also rectangles.\n",
    "[height * width for height in range(1,4) for width in range(1,5)]"
   ]
  },
  {
   "cell_type": "markdown",
   "metadata": {},
   "source": [
    "---"
   ]
  },
  {
   "cell_type": "markdown",
   "metadata": {},
   "source": [
    "### `if` statement"
   ]
  },
  {
   "cell_type": "code",
   "execution_count": 67,
   "metadata": {},
   "outputs": [
    {
     "data": {
      "text/plain": [
       "[0, 2, 4, 6, 8, 10, 12, 14]"
      ]
     },
     "execution_count": 67,
     "metadata": {},
     "output_type": "execute_result"
    }
   ],
   "source": [
    "[i for i in range(15) if i % 2 == 0]"
   ]
  },
  {
   "cell_type": "markdown",
   "metadata": {},
   "source": [
    "---"
   ]
  },
  {
   "cell_type": "markdown",
   "metadata": {},
   "source": [
    "### Further reading"
   ]
  },
  {
   "cell_type": "markdown",
   "metadata": {},
   "source": [
    "\n",
    "[DataCamp on list comprehension](https://www.datacamp.com/community/tutorials/python-list-comprehension)\n",
    "\n",
    "[Programiz on list comprehension](https://www.programiz.com/python-programming/list-comprehension)\n",
    "\n",
    "[GeeksforGeeks list comprehension](https://www.geeksforgeeks.org/comprehensions-in-python/)\n",
    "\n",
    "[Tutorialpoints list comprehension](https://www.geeksforgeeks.org/comprehensions-in-python/)\n",
    "\n",
    "[Real Python list comprehension](https://realpython.com/list-comprehension-python/)\n",
    "\n",
    "[Python documentation on list comprehension](https://docs.python.org/3.7/tutorial/datastructures.html#list-comprehensions)"
   ]
  },
  {
   "cell_type": "markdown",
   "metadata": {},
   "source": [
    "---"
   ]
  }
 ],
 "metadata": {
  "kernelspec": {
   "display_name": "Python 3",
   "language": "python",
   "name": "python3"
  },
  "language_info": {
   "codemirror_mode": {
    "name": "ipython",
    "version": 3
   },
   "file_extension": ".py",
   "mimetype": "text/x-python",
   "name": "python",
   "nbconvert_exporter": "python",
   "pygments_lexer": "ipython3",
   "version": "3.8.2"
  }
 },
 "nbformat": 4,
 "nbformat_minor": 2
}
