{
 "cells": [
  {
   "cell_type": "markdown",
   "metadata": {},
   "source": [
    "# Part 2: why objects can be useful "
   ]
  },
  {
   "cell_type": "code",
   "execution_count": 18,
   "metadata": {},
   "outputs": [],
   "source": [
    "from utils import Fruit, Toiletpaper, Basket, get_fruits\n",
    "apples, bananas, oranges = get_fruits()   \n",
    "# feel free to ignore this cell, I'm just bringing in code we'd already defined"
   ]
  },
  {
   "cell_type": "code",
   "execution_count": 2,
   "metadata": {},
   "outputs": [],
   "source": [
    "luxurious_toilet_paper = Toiletpaper(name='Smooth and dry toilet paper',\n",
    "                                 thickness='Tripple leaf', \n",
    "                                 price_per_unit=50, \n",
    "                                 days_until_expired=2000, \n",
    "                                 nr_units=1)\n",
    "\n",
    "basic_toilet_paper = Toiletpaper(name='Basic toilet paper',\n",
    "                                 thickness='Single leaf', \n",
    "                                 price_per_unit=3, \n",
    "                                 days_until_expired=365, \n",
    "                                 nr_units=1)"
   ]
  },
  {
   "cell_type": "code",
   "execution_count": 3,
   "metadata": {},
   "outputs": [
    {
     "name": "stdout",
     "output_type": "stream",
     "text": [
      "<utils.Toiletpaper object at 0x1060e33c8>\n"
     ]
    }
   ],
   "source": [
    "# not very useful, we can only see that it is an instance of Toiletpaper\n",
    "print(basic_toilet_paper) "
   ]
  },
  {
   "cell_type": "code",
   "execution_count": 4,
   "metadata": {},
   "outputs": [
    {
     "name": "stdout",
     "output_type": "stream",
     "text": [
      "Basic toilet paper\n"
     ]
    }
   ],
   "source": [
    "# Quite clear! \n",
    "print(basic_toilet_paper.name) "
   ]
  },
  {
   "cell_type": "markdown",
   "metadata": {},
   "source": [
    "----"
   ]
  },
  {
   "cell_type": "code",
   "execution_count": 5,
   "metadata": {},
   "outputs": [],
   "source": [
    "# create the basket (this is called \"instantiate\", you'll hear this word around)\n",
    "my_basket = Basket()"
   ]
  },
  {
   "cell_type": "code",
   "execution_count": 6,
   "metadata": {},
   "outputs": [],
   "source": [
    "# add some apples \n",
    "my_basket.add_item(apples)"
   ]
  },
  {
   "cell_type": "code",
   "execution_count": 7,
   "metadata": {},
   "outputs": [],
   "source": [
    "# add some bananas \n",
    "my_basket.add_item(bananas)"
   ]
  },
  {
   "cell_type": "code",
   "execution_count": 8,
   "metadata": {},
   "outputs": [],
   "source": [
    "# add some oranges \n",
    "my_basket.add_item(oranges)"
   ]
  },
  {
   "cell_type": "code",
   "execution_count": 9,
   "metadata": {},
   "outputs": [
    {
     "data": {
      "text/plain": [
       "<utils.Basket at 0x1060e3160>"
      ]
     },
     "execution_count": 9,
     "metadata": {},
     "output_type": "execute_result"
    }
   ],
   "source": [
    "my_basket"
   ]
  },
  {
   "cell_type": "code",
   "execution_count": 25,
   "metadata": {},
   "outputs": [
    {
     "name": "stdout",
     "output_type": "stream",
     "text": [
      "The total price is 75\n",
      "- 10 apples (total price 10)\n",
      "- 2 oranges (total price 6)\n",
      "- 1 Basic toilet paper (total price 3)\n",
      "- 2 oranges (total price 6)\n",
      "- 1 Smooth and dry toilet paper (total price 50)\n"
     ]
    }
   ],
   "source": [
    "my_basket.examine_basket()   # <-- examine_basket is a method that all baskets share"
   ]
  },
  {
   "cell_type": "code",
   "execution_count": 21,
   "metadata": {},
   "outputs": [],
   "source": [
    "# add the toilet paper! \n",
    "my_basket.add_item(luxurious_toilet_paper)"
   ]
  },
  {
   "cell_type": "code",
   "execution_count": 22,
   "metadata": {},
   "outputs": [
    {
     "name": "stdout",
     "output_type": "stream",
     "text": [
      "The total price is 75\n",
      "- 10 apples (total price 10)\n",
      "- 2 oranges (total price 6)\n",
      "- 1 Basic toilet paper (total price 3)\n",
      "- 2 oranges (total price 6)\n",
      "- 1 Smooth and dry toilet paper (total price 50)\n"
     ]
    }
   ],
   "source": [
    "my_basket.examine_basket()"
   ]
  },
  {
   "cell_type": "code",
   "execution_count": 13,
   "metadata": {},
   "outputs": [],
   "source": [
    "my_basket.remove_item(luxurious_toilet_paper)\n",
    "my_basket.add_item(basic_toilet_paper)"
   ]
  },
  {
   "cell_type": "code",
   "execution_count": 14,
   "metadata": {},
   "outputs": [
    {
     "name": "stdout",
     "output_type": "stream",
     "text": [
      "The total price is 31\n",
      "- 10 apples (total price 10)\n",
      "- 6 bananas (total price 12)\n",
      "- 2 oranges (total price 6)\n",
      "- 1 Basic toilet paper (total price 3)\n"
     ]
    }
   ],
   "source": [
    "my_basket.examine_basket()"
   ]
  },
  {
   "cell_type": "markdown",
   "metadata": {},
   "source": [
    "Great, we're almost done. I'm just a bit worried that some of the fruit may be about to expire... let's take a quick look: "
   ]
  },
  {
   "cell_type": "code",
   "execution_count": 15,
   "metadata": {},
   "outputs": [
    {
     "name": "stdout",
     "output_type": "stream",
     "text": [
      "The item bananas will expire in 7 days\n"
     ]
    }
   ],
   "source": [
    "my_basket.check_for_items_close_to_expire(10)"
   ]
  },
  {
   "cell_type": "markdown",
   "metadata": {},
   "source": [
    "Ah, got it. Then let's replace the bananas with some more oranges. "
   ]
  },
  {
   "cell_type": "code",
   "execution_count": 16,
   "metadata": {},
   "outputs": [],
   "source": [
    "my_basket.remove_item(bananas)\n",
    "my_basket.add_item(oranges)"
   ]
  },
  {
   "cell_type": "code",
   "execution_count": 17,
   "metadata": {},
   "outputs": [
    {
     "name": "stdout",
     "output_type": "stream",
     "text": [
      "The total price is 25\n",
      "- 10 apples (total price 10)\n",
      "- 2 oranges (total price 6)\n",
      "- 1 Basic toilet paper (total price 3)\n",
      "- 2 oranges (total price 6)\n"
     ]
    }
   ],
   "source": [
    "my_basket.examine_basket()"
   ]
  }
 ],
 "metadata": {
  "kernelspec": {
   "display_name": "Python 3",
   "language": "python",
   "name": "python3"
  },
  "language_info": {
   "codemirror_mode": {
    "name": "ipython",
    "version": 3
   },
   "file_extension": ".py",
   "mimetype": "text/x-python",
   "name": "python",
   "nbconvert_exporter": "python",
   "pygments_lexer": "ipython3",
   "version": "3.8.2"
  }
 },
 "nbformat": 4,
 "nbformat_minor": 2
}
