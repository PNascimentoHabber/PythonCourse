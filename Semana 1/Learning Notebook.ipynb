{
 "cells": [
  {
   "cell_type": "markdown",
   "metadata": {},
   "source": [
    "# Programming Basics"
   ]
  },
  {
   "cell_type": "markdown",
   "metadata": {},
   "source": [
    "## Introduction to Python"
   ]
  },
  {
   "cell_type": "markdown",
   "metadata": {},
   "source": [
    "<img src=\"./media/recipe2.jpg\"/>"
   ]
  },
  {
   "cell_type": "markdown",
   "metadata": {},
   "source": [
    "<img src=\"./media/code_execute_small.jpg\"/>"
   ]
  },
  {
   "cell_type": "code",
   "execution_count": null,
   "metadata": {},
   "outputs": [],
   "source": []
  },
  {
   "cell_type": "markdown",
   "metadata": {},
   "source": [
    "## How to get help"
   ]
  },
  {
   "cell_type": "markdown",
   "metadata": {},
   "source": [
    "<img src=\"./media/99bugs_small.jpg\"/>\n",
    "\n",
    "[\"A software bug is an error, flaw or fault in a computer program or system that causes it to produce an incorrect or unexpected result (...)\"](https://en.wikipedia.org/wiki/Software_bug)"
   ]
  },
  {
   "cell_type": "markdown",
   "metadata": {},
   "source": [
    "<img src=\"./media/cracking.gif\"/>"
   ]
  },
  {
   "cell_type": "markdown",
   "metadata": {},
   "source": [
    "## The `print()` function and its parameters; the Syntax error"
   ]
  },
  {
   "cell_type": "code",
   "execution_count": 1,
   "metadata": {},
   "outputs": [
    {
     "name": "stdout",
     "output_type": "stream",
     "text": [
      "Hello, World!\n"
     ]
    }
   ],
   "source": [
    "print(\"Hello, World!\")"
   ]
  },
  {
   "cell_type": "code",
   "execution_count": 2,
   "metadata": {},
   "outputs": [
    {
     "name": "stdout",
     "output_type": "stream",
     "text": [
      "10\n"
     ]
    }
   ],
   "source": [
    "print(10)"
   ]
  },
  {
   "cell_type": "code",
   "execution_count": 3,
   "metadata": {},
   "outputs": [
    {
     "name": "stdout",
     "output_type": "stream",
     "text": [
      "2.3\n"
     ]
    }
   ],
   "source": [
    "print(2.3)"
   ]
  },
  {
   "cell_type": "code",
   "execution_count": 23,
   "metadata": {},
   "outputs": [
    {
     "ename": "SyntaxError",
     "evalue": "invalid syntax (<ipython-input-23-ba43bbb0e998>, line 1)",
     "output_type": "error",
     "traceback": [
      "\u001b[1;36m  File \u001b[1;32m\"<ipython-input-23-ba43bbb0e998>\"\u001b[1;36m, line \u001b[1;32m1\u001b[0m\n\u001b[1;33m    print(10) print(2.3)\u001b[0m\n\u001b[1;37m                  ^\u001b[0m\n\u001b[1;31mSyntaxError\u001b[0m\u001b[1;31m:\u001b[0m invalid syntax\n"
     ]
    }
   ],
   "source": [
    "print(10) print(2.3)"
   ]
  },
  {
   "cell_type": "markdown",
   "metadata": {},
   "source": [
    "<img src=\"./media/hurt_small.png\"/>"
   ]
  },
  {
   "cell_type": "code",
   "execution_count": 16,
   "metadata": {},
   "outputs": [
    {
     "name": "stdout",
     "output_type": "stream",
     "text": [
      "Hello, World!\n",
      "10\n",
      "2.3\n"
     ]
    }
   ],
   "source": [
    "print(\"Hello, World!\")\n",
    "print(10)\n",
    "print(2.3)"
   ]
  },
  {
   "cell_type": "markdown",
   "metadata": {},
   "source": [
    "---"
   ]
  },
  {
   "cell_type": "code",
   "execution_count": 6,
   "metadata": {},
   "outputs": [
    {
     "name": "stdout",
     "output_type": "stream",
     "text": [
      "There are 5 continents in the World, according to the UN.\n"
     ]
    }
   ],
   "source": [
    "print(\"There are\", 5, \"continents in the World, according to the UN.\")"
   ]
  },
  {
   "cell_type": "code",
   "execution_count": 9,
   "metadata": {},
   "outputs": [
    {
     "name": "stdout",
     "output_type": "stream",
     "text": [
      "There are!5!continents in the World, according to the UN.\n"
     ]
    }
   ],
   "source": [
    "print(\"There are\", 5, \"continents in the World, according to the UN.\",sep=\"!\")"
   ]
  },
  {
   "cell_type": "code",
   "execution_count": 12,
   "metadata": {},
   "outputs": [
    {
     "name": "stdout",
     "output_type": "stream",
     "text": [
      "Hello, World! 10 2.3 "
     ]
    }
   ],
   "source": [
    "print(\"Hello, World!\", end=\" \")\n",
    "print(10, end=\" \")\n",
    "print(2.3, end=\" \")"
   ]
  },
  {
   "cell_type": "markdown",
   "metadata": {},
   "source": [
    "---"
   ]
  },
  {
   "cell_type": "code",
   "execution_count": 1,
   "metadata": {
    "ExecuteTime": {
     "end_time": "2020-05-05T14:45:22.006301Z",
     "start_time": "2020-05-05T14:45:21.997263Z"
    }
   },
   "outputs": [
    {
     "data": {
      "text/plain": [
       "'This string is the last result of the cell! On the left is Out[X]:'"
      ]
     },
     "execution_count": 1,
     "metadata": {},
     "output_type": "execute_result"
    }
   ],
   "source": [
    "\"This will not appear at all.\"\n",
    "\"This string is the last result of the cell! On the left is Out[X]:\" "
   ]
  },
  {
   "cell_type": "markdown",
   "metadata": {},
   "source": [
    "## How to comment your code"
   ]
  },
  {
   "cell_type": "markdown",
   "metadata": {},
   "source": [
    "<img src=\"./media/escalated_quickly_small.png\"/>"
   ]
  },
  {
   "cell_type": "code",
   "execution_count": 1,
   "metadata": {},
   "outputs": [
    {
     "name": "stdout",
     "output_type": "stream",
     "text": [
      "Hello, World!\n"
     ]
    }
   ],
   "source": [
    "#This is a comment.\n",
    "print(\"Hello, World!\")"
   ]
  },
  {
   "cell_type": "code",
   "execution_count": 19,
   "metadata": {},
   "outputs": [
    {
     "name": "stdout",
     "output_type": "stream",
     "text": [
      "Hello, World!\n"
     ]
    }
   ],
   "source": [
    "print(\"Hello, World!\") #Here the string is printed."
   ]
  },
  {
   "cell_type": "code",
   "execution_count": 20,
   "metadata": {},
   "outputs": [
    {
     "name": "stdout",
     "output_type": "stream",
     "text": [
      "Hello, World!\n"
     ]
    }
   ],
   "source": [
    "print(\"Hello, World!\")\n",
    "#print(\"This is not going to be printed!\")"
   ]
  },
  {
   "cell_type": "markdown",
   "metadata": {},
   "source": [
    "## Basic data types: integers, floats, strings, booleans and None; the `type()` function"
   ]
  },
  {
   "cell_type": "markdown",
   "metadata": {},
   "source": [
    "<img src=\"./media/letters.gif\"/>"
   ]
  },
  {
   "cell_type": "markdown",
   "metadata": {},
   "source": [
    "### Integers"
   ]
  },
  {
   "cell_type": "code",
   "execution_count": 17,
   "metadata": {},
   "outputs": [
    {
     "name": "stdout",
     "output_type": "stream",
     "text": [
      "-12\n"
     ]
    }
   ],
   "source": [
    "print(-12)"
   ]
  },
  {
   "cell_type": "code",
   "execution_count": 40,
   "metadata": {},
   "outputs": [
    {
     "name": "stdout",
     "output_type": "stream",
     "text": [
      "12\n"
     ]
    }
   ],
   "source": [
    "print(+12)"
   ]
  },
  {
   "cell_type": "markdown",
   "metadata": {},
   "source": [
    "### Floats"
   ]
  },
  {
   "cell_type": "code",
   "execution_count": 22,
   "metadata": {},
   "outputs": [
    {
     "name": "stdout",
     "output_type": "stream",
     "text": [
      "42.12\n"
     ]
    }
   ],
   "source": [
    "#Printing float 42.12\n",
    "print(42.12)\n",
    "#      ^  ^\n",
    "#      |  |\n",
    "#      |  Decimal part\n",
    "#      Integer part"
   ]
  },
  {
   "cell_type": "code",
   "execution_count": 30,
   "metadata": {},
   "outputs": [
    {
     "name": "stdout",
     "output_type": "stream",
     "text": [
      "42 12\n",
      "42.12\n"
     ]
    }
   ],
   "source": [
    "#In this case, using the comma creates two arguments for the print function.\n",
    "print(42,12) #This prints the integer 42, a whitespace and the integer 12.\n",
    "print(42.12) #This prints the float 42.12"
   ]
  },
  {
   "cell_type": "code",
   "execution_count": 29,
   "metadata": {},
   "outputs": [
    {
     "ename": "SyntaxError",
     "evalue": "invalid syntax (<ipython-input-29-e808d8bcf66f>, line 1)",
     "output_type": "error",
     "traceback": [
      "\u001b[1;36m  File \u001b[1;32m\"<ipython-input-29-e808d8bcf66f>\"\u001b[1;36m, line \u001b[1;32m1\u001b[0m\n\u001b[1;33m    print(42.000.000)\u001b[0m\n\u001b[1;37m                   ^\u001b[0m\n\u001b[1;31mSyntaxError\u001b[0m\u001b[1;31m:\u001b[0m invalid syntax\n"
     ]
    }
   ],
   "source": [
    "print(42.000.000)"
   ]
  },
  {
   "cell_type": "code",
   "execution_count": 38,
   "metadata": {},
   "outputs": [
    {
     "name": "stdout",
     "output_type": "stream",
     "text": [
      "0.4\n",
      "0.4\n"
     ]
    }
   ],
   "source": [
    "print(.4)\n",
    "print(0.4) #Equivalent"
   ]
  },
  {
   "cell_type": "code",
   "execution_count": 39,
   "metadata": {},
   "outputs": [
    {
     "name": "stdout",
     "output_type": "stream",
     "text": [
      "5.0\n",
      "5.0\n"
     ]
    }
   ],
   "source": [
    "print(5.)\n",
    "print(5.0) #Equivalent"
   ]
  },
  {
   "cell_type": "code",
   "execution_count": 60,
   "metadata": {},
   "outputs": [
    {
     "name": "stdout",
     "output_type": "stream",
     "text": [
      "300.0\n",
      "0.00012\n",
      "1200.0\n",
      "1e+50\n"
     ]
    }
   ],
   "source": [
    "print(3E2) #This is equivalent to 3.0 * (10 ** 2). \n",
    "\n",
    "\n",
    "print(1.2e-4) #This is equivalent to 1.2 * (10 ** -4)\n",
    "print(1.2e3) #This is equivalent to 1.2 * (10 ** 3)\n",
    "print(1E50) #This is equivalent to 1. * (10 ** 50)"
   ]
  },
  {
   "cell_type": "code",
   "execution_count": 62,
   "metadata": {},
   "outputs": [
    {
     "name": "stdout",
     "output_type": "stream",
     "text": [
      "-12.45\n",
      "-28600.0\n"
     ]
    }
   ],
   "source": [
    "print(-12.45)\n",
    "print(-2.86e4)"
   ]
  },
  {
   "cell_type": "code",
   "execution_count": 67,
   "metadata": {},
   "outputs": [
    {
     "name": "stdout",
     "output_type": "stream",
     "text": [
      "1e-15\n"
     ]
    }
   ],
   "source": [
    "print(0.000000000000001)"
   ]
  },
  {
   "cell_type": "markdown",
   "metadata": {},
   "source": [
    "### Strings"
   ]
  },
  {
   "cell_type": "code",
   "execution_count": 79,
   "metadata": {},
   "outputs": [
    {
     "name": "stdout",
     "output_type": "stream",
     "text": [
      "This is a string.\n",
      "This is also a string.\n"
     ]
    }
   ],
   "source": [
    "print(\"This is a string.\")\n",
    "print('This is also a string.')"
   ]
  },
  {
   "cell_type": "code",
   "execution_count": 78,
   "metadata": {},
   "outputs": [
    {
     "ename": "SyntaxError",
     "evalue": "EOL while scanning string literal (<ipython-input-78-5d44bf5397b8>, line 1)",
     "output_type": "error",
     "traceback": [
      "\u001b[1;36m  File \u001b[1;32m\"<ipython-input-78-5d44bf5397b8>\"\u001b[1;36m, line \u001b[1;32m1\u001b[0m\n\u001b[1;33m    print(\"This is a )\u001b[0m\n\u001b[1;37m                      ^\u001b[0m\n\u001b[1;31mSyntaxError\u001b[0m\u001b[1;31m:\u001b[0m EOL while scanning string literal\n"
     ]
    }
   ],
   "source": [
    "#The ) is considered a part of the string\n",
    "print(\"This is a )"
   ]
  },
  {
   "cell_type": "code",
   "execution_count": 82,
   "metadata": {},
   "outputs": [
    {
     "name": "stdout",
     "output_type": "stream",
     "text": [
      "\"An investment in knowledge always pays the best interest.\" - Benjamin Franklin\n",
      "'Everything you can imagine is real.' - Pablo Picasso\n"
     ]
    }
   ],
   "source": [
    "print(\"\\\"An investment in knowledge always pays the best interest.\\\" - Benjamin Franklin\")\n",
    "print('\\'Everything you can imagine is real.\\' - Pablo Picasso')"
   ]
  },
  {
   "cell_type": "code",
   "execution_count": 75,
   "metadata": {},
   "outputs": [
    {
     "name": "stdout",
     "output_type": "stream",
     "text": [
      "'Imagination is more important than knowledge...' - Albert Einstein\n",
      "\"There is no harm in doubt and skepticism, for it is through these that new discoveries are made.\" - Richard Feynman\n"
     ]
    }
   ],
   "source": [
    "print(\"'Imagination is more important than knowledge...' - Albert Einstein\")\n",
    "print('\"There is no harm in doubt and skepticism, for it is through these that new discoveries are made.\" - Richard Feynman')"
   ]
  },
  {
   "cell_type": "code",
   "execution_count": 76,
   "metadata": {},
   "outputs": [
    {
     "ename": "SyntaxError",
     "evalue": "EOL while scanning string literal (<ipython-input-76-f498a3c49047>, line 1)",
     "output_type": "error",
     "traceback": [
      "\u001b[1;36m  File \u001b[1;32m\"<ipython-input-76-f498a3c49047>\"\u001b[1;36m, line \u001b[1;32m1\u001b[0m\n\u001b[1;33m    print(\"This is a string\" \" )\u001b[0m\n\u001b[1;37m                                ^\u001b[0m\n\u001b[1;31mSyntaxError\u001b[0m\u001b[1;31m:\u001b[0m EOL while scanning string literal\n"
     ]
    }
   ],
   "source": [
    "print(\"This is a string\" \" )"
   ]
  },
  {
   "cell_type": "markdown",
   "metadata": {},
   "source": [
    "---"
   ]
  },
  {
   "cell_type": "code",
   "execution_count": 87,
   "metadata": {},
   "outputs": [
    {
     "name": "stdout",
     "output_type": "stream",
     "text": [
      "old pond\n",
      "frog leaps in\n",
      "water's sound\n",
      "- Translated Bashō's \"old pond\"\n"
     ]
    }
   ],
   "source": [
    "print(\"old pond\\nfrog leaps in\\nwater's sound\\n- Translated Bashō's \\\"old pond\\\"\")\n",
    "#Any space around \\n is also part of the string. Try adding a space after \\n to see the difference."
   ]
  },
  {
   "cell_type": "code",
   "execution_count": 1,
   "metadata": {},
   "outputs": [
    {
     "name": "stdout",
     "output_type": "stream",
     "text": [
      "A Silly Poem by Spike Milligan\n",
      "\n",
      "Said Hamlet to Ophelia,\n",
      "I'll draw a sketch of thee,\n",
      "What kind of pencil shall I use?\n",
      "2B or not 2B?\n",
      "\n"
     ]
    }
   ],
   "source": [
    "#The \\ prevents the name of the poem to be separated from the author. Delete it to see the difference.\n",
    "print(\"\"\"A Silly Poem \\\n",
    "by Spike Milligan\n",
    "\n",
    "Said Hamlet to Ophelia,\n",
    "I'll draw a sketch of thee,\n",
    "What kind of pencil shall I use?\n",
    "2B or not 2B?\n",
    "\"\"\"\n",
    ")"
   ]
  },
  {
   "cell_type": "markdown",
   "metadata": {},
   "source": [
    "---"
   ]
  },
  {
   "cell_type": "code",
   "execution_count": 104,
   "metadata": {},
   "outputs": [
    {
     "name": "stdout",
     "output_type": "stream",
     "text": [
      "First empty string:\n",
      "\n",
      "Second empty string:\n",
      "\n"
     ]
    }
   ],
   "source": [
    "print('First empty string:')\n",
    "print(\"\")\n",
    "print('Second empty string:')\n",
    "print('')"
   ]
  },
  {
   "cell_type": "markdown",
   "metadata": {},
   "source": [
    "### Booleans"
   ]
  },
  {
   "cell_type": "code",
   "execution_count": 113,
   "metadata": {},
   "outputs": [
    {
     "name": "stdout",
     "output_type": "stream",
     "text": [
      "Is 2 larger than 1? True\n",
      "Is 2 smaller than 1? False\n"
     ]
    }
   ],
   "source": [
    "print(\"Is 2 larger than 1?\", 2 > 1)\n",
    "print(\"Is 2 smaller than 1?\", 2 < 1)"
   ]
  },
  {
   "cell_type": "code",
   "execution_count": 116,
   "metadata": {},
   "outputs": [
    {
     "name": "stdout",
     "output_type": "stream",
     "text": [
      "True\n",
      "True\n"
     ]
    }
   ],
   "source": [
    "#These are not the same.\n",
    "print(True)\n",
    "print(\"True\")"
   ]
  },
  {
   "cell_type": "markdown",
   "metadata": {},
   "source": [
    "### The None value"
   ]
  },
  {
   "cell_type": "code",
   "execution_count": 127,
   "metadata": {},
   "outputs": [
    {
     "name": "stdout",
     "output_type": "stream",
     "text": [
      "None\n"
     ]
    }
   ],
   "source": [
    "print(None)"
   ]
  },
  {
   "cell_type": "markdown",
   "metadata": {},
   "source": [
    "### Identifying the data type with `type()`"
   ]
  },
  {
   "cell_type": "code",
   "execution_count": 144,
   "metadata": {},
   "outputs": [
    {
     "name": "stdout",
     "output_type": "stream",
     "text": [
      "The data type of 1 is <class 'int'>\n",
      "The data type of 1. is <class 'float'>\n",
      "The data type of -3E2 is <class 'float'>\n",
      "The data type of 'This is a string.' is <class 'str'>\n",
      "The data type of 'True': <class 'str'> is not the same as the data type of True: <class 'bool'>\n",
      "The data type of None is <class 'NoneType'>\n"
     ]
    }
   ],
   "source": [
    "#Don't worry about what class means for now. The data type is shortened and within apostrophes.\n",
    "print(\"The data type of 1 is\",type(1))\n",
    "print(\"The data type of 1. is\",type(1.))\n",
    "print(\"The data type of -3E2 is\",type(-3E2))\n",
    "print(\"The data type of 'This is a string.' is\",type('This is a string.'))\n",
    "print(\"The data type of 'True':\",type('True'), \"is not the same as the data type of True:\", type(True))\n",
    "print(\"The data type of None is\",type(None))"
   ]
  },
  {
   "cell_type": "markdown",
   "metadata": {},
   "source": [
    "<a id=\"convert\"></a>\n",
    "## Converting between basic data types using `int()`, `float()`, `str()` and `bool()` functions; the Value error"
   ]
  },
  {
   "cell_type": "code",
   "execution_count": 4,
   "metadata": {},
   "outputs": [
    {
     "name": "stdout",
     "output_type": "stream",
     "text": [
      "The the result of int(\"4\") is 4 and the data type is <class 'int'>\n",
      "The the result of int(2.8) is 2 and the data type is <class 'int'>\n",
      "The the result of int(True) is 1 and the data type is <class 'int'>\n"
     ]
    }
   ],
   "source": [
    "print(\"The result of int(\\\"4\\\") is\" ,int(\"4\") ,\"and the data type is\",type(int(\"4\")))\n",
    "print(\"The result of int(2.8) is\" ,int(2.8) ,\"and the data type is\",type(int(2.8)))\n",
    "print(\"The result of int(True) is\" ,int(True) ,\"and the data type is\",type(int(True)))"
   ]
  },
  {
   "cell_type": "code",
   "execution_count": 10,
   "metadata": {},
   "outputs": [
    {
     "ename": "ValueError",
     "evalue": "invalid literal for int() with base 10: 'This is not an integer!'",
     "output_type": "error",
     "traceback": [
      "\u001b[1;31m---------------------------------------------------------------------------\u001b[0m",
      "\u001b[1;31mValueError\u001b[0m                                Traceback (most recent call last)",
      "\u001b[1;32m<ipython-input-10-87b2d044dffc>\u001b[0m in \u001b[0;36m<module>\u001b[1;34m\u001b[0m\n\u001b[1;32m----> 1\u001b[1;33m \u001b[0mprint\u001b[0m\u001b[1;33m(\u001b[0m\u001b[0mint\u001b[0m\u001b[1;33m(\u001b[0m\u001b[1;34m\"This is not an integer!\"\u001b[0m\u001b[1;33m)\u001b[0m\u001b[1;33m)\u001b[0m\u001b[1;33m\u001b[0m\u001b[1;33m\u001b[0m\u001b[0m\n\u001b[0m",
      "\u001b[1;31mValueError\u001b[0m: invalid literal for int() with base 10: 'This is not an integer!'"
     ]
    }
   ],
   "source": [
    "print(int(\"This is not an integer!\"))"
   ]
  },
  {
   "cell_type": "code",
   "execution_count": 20,
   "metadata": {},
   "outputs": [
    {
     "name": "stdout",
     "output_type": "stream",
     "text": [
      "The the result of float(\"4\") is 4.0 and the data type is <class 'float'>\n",
      "The the result of float(2) is 2.0 and the data type is <class 'float'>\n",
      "The the result of float(\"3E4\") is 30000.0 and the data type is <class 'float'>\n",
      "The the result of float(True) is 1.0 and the data type is <class 'float'>\n"
     ]
    }
   ],
   "source": [
    "print(\"The result of float(\\\"4\\\") is\" ,float(\"4\") ,\"and the data type is\",type(float(\"4\")))\n",
    "print(\"The result of float(2) is\" ,float(2) ,\"and the data type is\",type(float(2)))\n",
    "print(\"The result of float(\\\"3E4\\\") is\" ,float(\"3E4\") ,\"and the data type is\",type(float(\"3E4\")))\n",
    "print(\"The result of float(True) is\" ,float(True) ,\"and the data type is\",type(float(True)))"
   ]
  },
  {
   "cell_type": "code",
   "execution_count": 13,
   "metadata": {},
   "outputs": [
    {
     "ename": "ValueError",
     "evalue": "could not convert string to float: 'This is not a float!'",
     "output_type": "error",
     "traceback": [
      "\u001b[1;31m---------------------------------------------------------------------------\u001b[0m",
      "\u001b[1;31mValueError\u001b[0m                                Traceback (most recent call last)",
      "\u001b[1;32m<ipython-input-13-13d1a9209801>\u001b[0m in \u001b[0;36m<module>\u001b[1;34m\u001b[0m\n\u001b[1;32m----> 1\u001b[1;33m \u001b[0mprint\u001b[0m\u001b[1;33m(\u001b[0m\u001b[0mfloat\u001b[0m\u001b[1;33m(\u001b[0m\u001b[1;34m\"This is not a float!\"\u001b[0m\u001b[1;33m)\u001b[0m\u001b[1;33m)\u001b[0m\u001b[1;33m\u001b[0m\u001b[1;33m\u001b[0m\u001b[0m\n\u001b[0m",
      "\u001b[1;31mValueError\u001b[0m: could not convert string to float: 'This is not a float!'"
     ]
    }
   ],
   "source": [
    "print(float(\"This is not a float!\"))"
   ]
  },
  {
   "cell_type": "code",
   "execution_count": 2,
   "metadata": {},
   "outputs": [
    {
     "name": "stdout",
     "output_type": "stream",
     "text": [
      "The result of str(\"4\") is 4 and the data type is <class 'str'>\n",
      "The result of str(2.3) is 2.3 and the data type is <class 'str'>\n",
      "The result of str(\"3E4\") is 3E4 and the data type is <class 'str'>\n",
      "The result of str(True) is True and the data type is <class 'str'>\n"
     ]
    }
   ],
   "source": [
    "print(\"The result of str(\\\"4\\\") is\" ,str(\"4\") ,\"and the data type is\",type(str(\"4\")))\n",
    "print(\"The result of str(2.3) is\" ,str(2.3) ,\"and the data type is\",type(str(2.3)))\n",
    "print(\"The result of str(\\\"3E4\\\") is\" ,str(\"3E4\") ,\"and the data type is\",type(str(\"3E4\")))\n",
    "print(\"The result of str(True) is\" ,str(True) ,\"and the data type is\",type(str(True)))"
   ]
  },
  {
   "cell_type": "markdown",
   "metadata": {},
   "source": [
    "## Basic arithmetic operations; the ZeroDivision error"
   ]
  },
  {
   "cell_type": "code",
   "execution_count": 24,
   "metadata": {},
   "outputs": [
    {
     "name": "stdout",
     "output_type": "stream",
     "text": [
      "4\n"
     ]
    }
   ],
   "source": [
    "print(2 + 2)"
   ]
  },
  {
   "cell_type": "markdown",
   "metadata": {},
   "source": [
    "<img src=\"./media/TomsMindBlown.gif\"/>"
   ]
  },
  {
   "cell_type": "markdown",
   "metadata": {},
   "source": [
    "Some of the operations can can be performed with Python are:\n",
    "- Addition (`+`)\n",
    "- Subtraction (`-`)\n",
    "- Multiplication (`*`)\n",
    "- Division (`/`)\n",
    "- Exponentiation or power (`**`)\n",
    "- Integer division (`//`)\n",
    "- Remainder (`%`)"
   ]
  },
  {
   "cell_type": "code",
   "execution_count": 23,
   "metadata": {},
   "outputs": [
    {
     "name": "stdout",
     "output_type": "stream",
     "text": [
      "5\n",
      "5.0\n",
      "5.0\n",
      "5.0\n"
     ]
    }
   ],
   "source": [
    "print(2 + 3)\n",
    "print(2. + 3)\n",
    "print(2 + 3.)\n",
    "print(2. + 3.)"
   ]
  },
  {
   "cell_type": "code",
   "execution_count": 26,
   "metadata": {},
   "outputs": [
    {
     "name": "stdout",
     "output_type": "stream",
     "text": [
      "-1\n",
      "-1.0\n",
      "-1.0\n",
      "5.0\n"
     ]
    }
   ],
   "source": [
    "print(2 - 3)\n",
    "print(2. - 3)\n",
    "print(2 - 3.)\n",
    "print(2. - 3.)"
   ]
  },
  {
   "cell_type": "code",
   "execution_count": 29,
   "metadata": {},
   "outputs": [
    {
     "name": "stdout",
     "output_type": "stream",
     "text": [
      "7\n"
     ]
    }
   ],
   "source": [
    "print(2 - -5)"
   ]
  },
  {
   "cell_type": "code",
   "execution_count": 30,
   "metadata": {},
   "outputs": [
    {
     "name": "stdout",
     "output_type": "stream",
     "text": [
      "6\n",
      "6.0\n",
      "6.0\n",
      "6.0\n"
     ]
    }
   ],
   "source": [
    "print(2 * 3)\n",
    "print(2. * 3)\n",
    "print(2 * 3.)\n",
    "print(2. * 3.)"
   ]
  },
  {
   "cell_type": "code",
   "execution_count": 3,
   "metadata": {
    "ExecuteTime": {
     "end_time": "2020-05-05T16:15:40.743531Z",
     "start_time": "2020-05-05T16:15:40.737530Z"
    }
   },
   "outputs": [
    {
     "name": "stdout",
     "output_type": "stream",
     "text": [
      "1.0\n",
      "0.6666666666666666\n",
      "0.6666666666666666\n",
      "0.6666666666666666\n"
     ]
    }
   ],
   "source": [
    "print(2 / 2)\n",
    "print(2. / 3)\n",
    "print(2 / 3.)\n",
    "print(2. / 3.)"
   ]
  },
  {
   "cell_type": "code",
   "execution_count": 32,
   "metadata": {},
   "outputs": [
    {
     "name": "stdout",
     "output_type": "stream",
     "text": [
      "2.0\n"
     ]
    }
   ],
   "source": [
    "print(12 / 6)"
   ]
  },
  {
   "cell_type": "code",
   "execution_count": 35,
   "metadata": {},
   "outputs": [
    {
     "name": "stdout",
     "output_type": "stream",
     "text": [
      "8\n",
      "8.0\n",
      "8.0\n",
      "8.0\n"
     ]
    }
   ],
   "source": [
    "print(2 ** 3)\n",
    "print(2. ** 3)\n",
    "print(2 ** 3.)\n",
    "print(2. ** 3.)"
   ]
  },
  {
   "cell_type": "code",
   "execution_count": 37,
   "metadata": {},
   "outputs": [
    {
     "name": "stdout",
     "output_type": "stream",
     "text": [
      "1\n",
      "1.0\n",
      "1.0\n",
      "1.0\n"
     ]
    }
   ],
   "source": [
    "print(6 // 4)\n",
    "print(6. // 4)\n",
    "print(6 // 4.)\n",
    "print(6. // 4.)"
   ]
  },
  {
   "cell_type": "code",
   "execution_count": 5,
   "metadata": {
    "ExecuteTime": {
     "end_time": "2020-05-05T16:18:48.382889Z",
     "start_time": "2020-05-05T16:18:48.378892Z"
    }
   },
   "outputs": [
    {
     "name": "stdout",
     "output_type": "stream",
     "text": [
      "1.5\n"
     ]
    }
   ],
   "source": [
    "print(6 / 4)"
   ]
  },
  {
   "cell_type": "code",
   "execution_count": 3,
   "metadata": {},
   "outputs": [
    {
     "name": "stdout",
     "output_type": "stream",
     "text": [
      "-2\n",
      "-2.0\n"
     ]
    }
   ],
   "source": [
    "#One might think that the result would be -1 or -1.0.\n",
    "print(-6 // 4) \n",
    "print(6 // -4.)"
   ]
  },
  {
   "cell_type": "code",
   "execution_count": 47,
   "metadata": {},
   "outputs": [
    {
     "name": "stdout",
     "output_type": "stream",
     "text": [
      "2\n",
      "2.0\n",
      "2.0\n",
      "2.0\n"
     ]
    }
   ],
   "source": [
    "print(14 % 3)\n",
    "print(14. % 3)\n",
    "print(14 % 3.)\n",
    "print(14. % 3.)"
   ]
  },
  {
   "cell_type": "code",
   "execution_count": 52,
   "metadata": {},
   "outputs": [
    {
     "ename": "ZeroDivisionError",
     "evalue": "integer division or modulo by zero",
     "output_type": "error",
     "traceback": [
      "\u001b[1;31m---------------------------------------------------------------------------\u001b[0m",
      "\u001b[1;31mZeroDivisionError\u001b[0m                         Traceback (most recent call last)",
      "\u001b[1;32m<ipython-input-52-2a8f76c16bd3>\u001b[0m in \u001b[0;36m<module>\u001b[1;34m\u001b[0m\n\u001b[1;32m----> 1\u001b[1;33m \u001b[0mprint\u001b[0m\u001b[1;33m(\u001b[0m\u001b[1;36m2\u001b[0m \u001b[1;33m//\u001b[0m \u001b[1;36m0\u001b[0m\u001b[1;33m)\u001b[0m\u001b[1;33m\u001b[0m\u001b[1;33m\u001b[0m\u001b[0m\n\u001b[0m",
      "\u001b[1;31mZeroDivisionError\u001b[0m: integer division or modulo by zero"
     ]
    }
   ],
   "source": [
    "print(2 // 0)"
   ]
  },
  {
   "cell_type": "markdown",
   "metadata": {},
   "source": [
    "## Operator Precedence"
   ]
  },
  {
   "cell_type": "markdown",
   "metadata": {},
   "source": [
    "<img src=\"./media/precedence_small.jpg\"/>"
   ]
  },
  {
   "cell_type": "markdown",
   "metadata": {},
   "source": [
    "Consider the examples:"
   ]
  },
  {
   "cell_type": "code",
   "execution_count": 8,
   "metadata": {},
   "outputs": [
    {
     "name": "stdout",
     "output_type": "stream",
     "text": [
      "8\n"
     ]
    }
   ],
   "source": [
    "#The first operation performed: 2 * 3 = 6\n",
    "#The second operation performed: 2 + 6 = 8\n",
    "print(2 + 2 * 3)"
   ]
  },
  {
   "cell_type": "code",
   "execution_count": 59,
   "metadata": {},
   "outputs": [
    {
     "name": "stdout",
     "output_type": "stream",
     "text": [
      "2\n",
      "12\n"
     ]
    }
   ],
   "source": [
    "#First operation performed: 12 // 3 = 4\n",
    "#Second operation performed: 4 // 2 = 2\n",
    "#Left-sided binding\n",
    "print(12 // 3 // 2)\n",
    "\n",
    "#Introducing parenthesis (highest priority) to force the right operation to be performed first.\n",
    "#First operation performed: 3 // 2 = 1\n",
    "#Second operation performed: 12 // 1 = 12\n",
    "print(12 // (3 // 2))"
   ]
  },
  {
   "cell_type": "code",
   "execution_count": 4,
   "metadata": {},
   "outputs": [
    {
     "name": "stdout",
     "output_type": "stream",
     "text": [
      "0\n",
      "2\n"
     ]
    }
   ],
   "source": [
    "#// and * have the same priority and are both left-sided binding.\n",
    "#The first operation performed: 2 // 3 = 0\n",
    "#The second operation performed: 0 * 3 = 0\n",
    "print(2 // 3 * 3)\n",
    "\n",
    "#The first operation performed: 3 * 2 = 6\n",
    "#The second operation performed: 6 // 3 = 2\n",
    "print(3 * 2 // 3 )"
   ]
  },
  {
   "cell_type": "code",
   "execution_count": 62,
   "metadata": {},
   "outputs": [
    {
     "name": "stdout",
     "output_type": "stream",
     "text": [
      "256\n",
      "64\n"
     ]
    }
   ],
   "source": [
    "#First operation performed: 2 ** 3 = 8\n",
    "#Second operation performed: 2 ** 8 = 256\n",
    "#Right-sided binding\n",
    "print(2 ** 2 ** 3)\n",
    "\n",
    "#Introducing parenthesis (highest priority) to force the left operation to be performed first.\n",
    "#First operation performed: 2 ** 2 = 4\n",
    "#Second operation performed: 4 ** 3 = 64\n",
    "print((2 ** 2) ** 3)"
   ]
  },
  {
   "cell_type": "markdown",
   "metadata": {},
   "source": [
    "## Strings concatenation and formatting"
   ]
  },
  {
   "cell_type": "code",
   "execution_count": 11,
   "metadata": {},
   "outputs": [
    {
     "name": "stdout",
     "output_type": "stream",
     "text": [
      "Hello there.\n"
     ]
    }
   ],
   "source": [
    "#The string \"Hello \" is merged with the string \"there.\"\n",
    "print(\"Hello \" + \"there.\")"
   ]
  },
  {
   "cell_type": "code",
   "execution_count": 12,
   "metadata": {},
   "outputs": [
    {
     "name": "stdout",
     "output_type": "stream",
     "text": [
      "You can merge as many strings in row as you like.\n"
     ]
    }
   ],
   "source": [
    "print(\"You \" + \"can \" + \"merge \" + \"as \" + \"many \" + \"strings \" + \"in \" + \"a \" + \"row \" + \"as \" + \"you \"+ \"like.\")"
   ]
  },
  {
   "cell_type": "code",
   "execution_count": 16,
   "metadata": {},
   "outputs": [
    {
     "name": "stdout",
     "output_type": "stream",
     "text": [
      "The order of the characters is preserved in the resulting string.\n",
      "String 1 String 2 String 3\n"
     ]
    }
   ],
   "source": [
    "print(\"The order of the characters \" + \"is preserved in the resulting string.\")\n",
    "print(\"String 1 \" + \"String 2 \" + \"String 3\")"
   ]
  },
  {
   "cell_type": "code",
   "execution_count": 4,
   "metadata": {},
   "outputs": [
    {
     "name": "stdout",
     "output_type": "stream",
     "text": [
      "Multiplying one integer with a string produces a string that is the concatenation of the string repeated by the value of that integer.\n",
      "For example: 4 * \"ABC\" results in ABCABCABCABC\n"
     ]
    }
   ],
   "source": [
    "print(\"\"\"Multiplying one integer with a string produces a string that is the concatenation \\\n",
    "of the string repeated by the value of that integer.\n",
    "For example: 4 * \\\"ABC\\\" results in \"\"\" + 4 * \"ABC\")"
   ]
  },
  {
   "cell_type": "markdown",
   "metadata": {},
   "source": [
    "#### String Formatting"
   ]
  },
  {
   "cell_type": "code",
   "execution_count": 6,
   "metadata": {},
   "outputs": [
    {
     "name": "stdout",
     "output_type": "stream",
     "text": [
      "There are 123 boxes of sweets in a store. There are 25 sweets in each box.\n",
      "How many sweets are there in the store? 3075\n"
     ]
    }
   ],
   "source": [
    "print(\"There are \" + str(123) + \" boxes of sweets in a store. There are \" + str(25)\n",
    "      + \" sweets in each box.\\nHow many sweets are there in the store? \" + str(123 * 25))"
   ]
  },
  {
   "cell_type": "code",
   "execution_count": 8,
   "metadata": {},
   "outputs": [
    {
     "name": "stdout",
     "output_type": "stream",
     "text": [
      "There are 123 boxes of sweets in a store. There are 25 sweets in each box.\n",
      "How many sweets are there in the store? 3075\n"
     ]
    }
   ],
   "source": [
    "print(\"\"\"There are {0} boxes of sweets in a store. There are {1} \\\n",
    "sweets in each box.\\nHow many sweets are there in the store? {result}\"\"\".format(123, 25, result=123 * 25))"
   ]
  },
  {
   "cell_type": "code",
   "execution_count": 38,
   "metadata": {},
   "outputs": [
    {
     "name": "stdout",
     "output_type": "stream",
     "text": [
      "There are 123 boxes of sweets in a store. There are 25 sweets in each box. How many sweets are in the store? 3075\n"
     ]
    }
   ],
   "source": [
    "print(f\"\"\"There are {123} boxes of sweets in a store. There are {25} \\\n",
    "sweets in each box. How many sweets are in the store? {123 * 25}\"\"\")"
   ]
  },
  {
   "cell_type": "markdown",
   "metadata": {},
   "source": [
    "## Introduction to variables; the Name error"
   ]
  },
  {
   "cell_type": "markdown",
   "metadata": {},
   "source": [
    "To create a variable the programmer must first name it. There are some rules to naming a variable that have to be followed:\n",
    "\n",
    "- the name of the variable can **only** be composed of **upper- and lower-case letters**, **digits** and the underscore character **_**. The characters are not required to be Latin letters .\n",
    "- the name has to **start with a letter**.\n",
    "- the **underscore is considered a letter**.\n",
    "- the upper- and lower-case letters are considered to be different. `POTATOES` and `potatoes` are two distinct variables.\n",
    "- the name cannot be one of Python's reserved keywords or [built-in functions]"
   ]
  },
  {
   "cell_type": "code",
   "execution_count": 25,
   "metadata": {},
   "outputs": [
    {
     "name": "stdout",
     "output_type": "stream",
     "text": [
      "\n",
      "Here is a list of the Python keywords.  Enter any keyword to get more help.\n",
      "\n",
      "False               class               from                or\n",
      "None                continue            global              pass\n",
      "True                def                 if                  raise\n",
      "and                 del                 import              return\n",
      "as                  elif                in                  try\n",
      "assert              else                is                  while\n",
      "async               except              lambda              with\n",
      "await               finally             nonlocal            yield\n",
      "break               for                 not                 \n",
      "\n"
     ]
    }
   ],
   "source": [
    "help('keywords')"
   ]
  },
  {
   "cell_type": "markdown",
   "metadata": {},
   "source": [
    "Here are some examples of names that can be used for variables:\n",
    "\n",
    "`FirstVariable`\n",
    "\n",
    "`j`\n",
    "\n",
    "`v23`\n",
    "\n",
    "`counter`\n",
    "\n",
    "`index`\n",
    "\n",
    "`An_Extremely_Long_Variable_Name_That_You_Are_Definitely_Never_Going_To_Mispell`\n",
    "\n",
    "`Ovo_da_Páscoa_Abaixo` (use of accented letters)\n",
    "\n",
    "`В_Советской_России_переменные_дают_вам_имя` (use of non latin characters)"
   ]
  },
  {
   "cell_type": "code",
   "execution_count": 44,
   "metadata": {},
   "outputs": [],
   "source": [
    "variable_name = 3"
   ]
  },
  {
   "cell_type": "code",
   "execution_count": 45,
   "metadata": {},
   "outputs": [
    {
     "name": "stdout",
     "output_type": "stream",
     "text": [
      "3\n"
     ]
    }
   ],
   "source": [
    "print(variable_name)"
   ]
  },
  {
   "cell_type": "code",
   "execution_count": 47,
   "metadata": {},
   "outputs": [
    {
     "name": "stdout",
     "output_type": "stream",
     "text": [
      "1 2.0 This is a string.\n"
     ]
    }
   ],
   "source": [
    "a = 1\n",
    "b = 2.\n",
    "c = \"This is a string.\"\n",
    "print(a,b,c)"
   ]
  },
  {
   "cell_type": "code",
   "execution_count": 48,
   "metadata": {},
   "outputs": [
    {
     "ename": "NameError",
     "evalue": "name 'A' is not defined",
     "output_type": "error",
     "traceback": [
      "\u001b[1;31m---------------------------------------------------------------------------\u001b[0m",
      "\u001b[1;31mNameError\u001b[0m                                 Traceback (most recent call last)",
      "\u001b[1;32m<ipython-input-48-939330b76721>\u001b[0m in \u001b[0;36m<module>\u001b[1;34m\u001b[0m\n\u001b[1;32m----> 1\u001b[1;33m \u001b[0mprint\u001b[0m\u001b[1;33m(\u001b[0m\u001b[0mA\u001b[0m\u001b[1;33m)\u001b[0m\u001b[1;33m\u001b[0m\u001b[1;33m\u001b[0m\u001b[0m\n\u001b[0m",
      "\u001b[1;31mNameError\u001b[0m: name 'A' is not defined"
     ]
    }
   ],
   "source": [
    "print(A)"
   ]
  },
  {
   "cell_type": "code",
   "execution_count": 50,
   "metadata": {},
   "outputs": [
    {
     "name": "stdout",
     "output_type": "stream",
     "text": [
      "2\n"
     ]
    }
   ],
   "source": [
    "a = 2\n",
    "#Variable a had value 1 and now it has value 2.\n",
    "print(a)"
   ]
  },
  {
   "cell_type": "code",
   "execution_count": 53,
   "metadata": {},
   "outputs": [
    {
     "name": "stdout",
     "output_type": "stream",
     "text": [
      "First part, second part.\n"
     ]
    }
   ],
   "source": [
    "e = \"First part,\"\n",
    "f = \" second part.\"\n",
    "g = e + f\n",
    "print(g)"
   ]
  },
  {
   "cell_type": "code",
   "execution_count": 54,
   "metadata": {},
   "outputs": [
    {
     "name": "stdout",
     "output_type": "stream",
     "text": [
      "2\n"
     ]
    }
   ],
   "source": [
    "d = 1\n",
    "d = d + 1\n",
    "print(d)"
   ]
  },
  {
   "cell_type": "code",
   "execution_count": 57,
   "metadata": {},
   "outputs": [
    {
     "name": "stdout",
     "output_type": "stream",
     "text": [
      "2\n"
     ]
    }
   ],
   "source": [
    "counter = 1\n",
    "counter += 1\n",
    "print(counter)"
   ]
  },
  {
   "cell_type": "code",
   "execution_count": 59,
   "metadata": {},
   "outputs": [
    {
     "name": "stdout",
     "output_type": "stream",
     "text": [
      "128.0\n"
     ]
    }
   ],
   "source": [
    "fraction = 256\n",
    "fraction /= 2 #Equivalent to fraction = fraction / 2\n",
    "print(fraction)"
   ]
  },
  {
   "cell_type": "code",
   "execution_count": 61,
   "metadata": {},
   "outputs": [
    {
     "name": "stdout",
     "output_type": "stream",
     "text": [
      "950.0\n"
     ]
    }
   ],
   "source": [
    "money = 1000\n",
    "tax = 0.05\n",
    "money *= (1 - tax) #Equivalent to money = money * (1 - tax)\n",
    "print(money)"
   ]
  },
  {
   "cell_type": "markdown",
   "metadata": {},
   "source": [
    "### Constants"
   ]
  },
  {
   "cell_type": "code",
   "execution_count": null,
   "metadata": {},
   "outputs": [],
   "source": [
    "GRAVITY_EARTH = 9.81\n",
    "PI = 3.14159"
   ]
  }
 ],
 "metadata": {
  "kernelspec": {
   "display_name": "Python 3",
   "language": "python",
   "name": "python3"
  },
  "language_info": {
   "codemirror_mode": {
    "name": "ipython",
    "version": 3
   },
   "file_extension": ".py",
   "mimetype": "text/x-python",
   "name": "python",
   "nbconvert_exporter": "python",
   "pygments_lexer": "ipython3",
   "version": "3.8.2"
  }
 },
 "nbformat": 4,
 "nbformat_minor": 2
}
