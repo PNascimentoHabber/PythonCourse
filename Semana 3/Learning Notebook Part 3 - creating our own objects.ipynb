{
 "cells": [
  {
   "cell_type": "markdown",
   "metadata": {},
   "source": [
    "# Part 3: creating our own objects"
   ]
  },
  {
   "cell_type": "code",
   "execution_count": 1,
   "metadata": {},
   "outputs": [],
   "source": [
    "from utils import get_fruits\n",
    "apples, bananas, oranges = get_fruits()"
   ]
  },
  {
   "cell_type": "markdown",
   "metadata": {},
   "source": [
    "-----"
   ]
  },
  {
   "cell_type": "markdown",
   "metadata": {},
   "source": [
    "### Taking a look under the hood \n"
   ]
  },
  {
   "cell_type": "code",
   "execution_count": 2,
   "metadata": {},
   "outputs": [],
   "source": [
    "class Fruit:\n",
    "    def __init__(self, name, price_per_unit, days_until_expired, nr_units):\n",
    "        self.name = name\n",
    "        self.nr_units = nr_units\n",
    "        self.price_per_unit = price_per_unit\n",
    "        self.days_until_expired = days_until_expired\n",
    "        \n"
   ]
  },
  {
   "cell_type": "code",
   "execution_count": 3,
   "metadata": {},
   "outputs": [],
   "source": [
    "# we can then use this Fruit to create fruits, as we've seen before \n",
    "apple = Fruit(name='royal gala', price_per_unit=2, days_until_expired=20, nr_units=4)"
   ]
  },
  {
   "cell_type": "markdown",
   "metadata": {},
   "source": [
    "----"
   ]
  },
  {
   "cell_type": "markdown",
   "metadata": {},
   "source": [
    "### Understanding \\_\\_init__"
   ]
  },
  {
   "cell_type": "code",
   "execution_count": 4,
   "metadata": {},
   "outputs": [],
   "source": [
    "# let's do a few examples \n",
    "class Person: \n",
    "    def __init__(self, name, age):\n",
    "        self.name = name\n",
    "        self.age = age\n",
    "\n",
    "class Virus:\n",
    "    def __init__(self, name, ro0, discovery_date):\n",
    "        self.name = name\n",
    "        self.ro0 = ro0\n",
    "        self.discovery_date = discovery_date"
   ]
  },
  {
   "cell_type": "code",
   "execution_count": 5,
   "metadata": {},
   "outputs": [],
   "source": [
    "class Dog:\n",
    "    def __init__(self, name, weight):  \n",
    "        self.name = name\n",
    "        self.weight=weight\n",
    "        self.family = \"mammal\"      "
   ]
  },
  {
   "cell_type": "code",
   "execution_count": 6,
   "metadata": {},
   "outputs": [],
   "source": [
    "class Human:\n",
    "    def __init__(self, name, date_of_birth): \n",
    "        self.name = name \n",
    "        self.date_of_birth = date_of_birth\n",
    "        self.date_of_death = None   "
   ]
  },
  {
   "cell_type": "code",
   "execution_count": 7,
   "metadata": {},
   "outputs": [],
   "source": [
    "frank = Human('Frank Smith', date_of_birth='1974-04-12')"
   ]
  },
  {
   "cell_type": "markdown",
   "metadata": {},
   "source": [
    "What is Frank Smith's date of death?"
   ]
  },
  {
   "cell_type": "code",
   "execution_count": 8,
   "metadata": {},
   "outputs": [
    {
     "name": "stdout",
     "output_type": "stream",
     "text": [
      "None\n"
     ]
    }
   ],
   "source": [
    "print(frank.date_of_death)"
   ]
  },
  {
   "cell_type": "markdown",
   "metadata": {},
   "source": [
    "Great! And now... let's kill him! "
   ]
  },
  {
   "cell_type": "code",
   "execution_count": 9,
   "metadata": {},
   "outputs": [],
   "source": [
    "frank.date_of_death = '2020-05-27'   # bye frank! "
   ]
  },
  {
   "cell_type": "markdown",
   "metadata": {},
   "source": [
    "Great, what's his date of death now? "
   ]
  },
  {
   "cell_type": "code",
   "execution_count": 10,
   "metadata": {},
   "outputs": [
    {
     "name": "stdout",
     "output_type": "stream",
     "text": [
      "2020-05-27\n"
     ]
    }
   ],
   "source": [
    "print(frank.date_of_death)"
   ]
  },
  {
   "cell_type": "code",
   "execution_count": 11,
   "metadata": {},
   "outputs": [
    {
     "data": {
      "text/plain": [
       "'Frank Smith'"
      ]
     },
     "execution_count": 11,
     "metadata": {},
     "output_type": "execute_result"
    }
   ],
   "source": [
    "frank.name "
   ]
  },
  {
   "cell_type": "code",
   "execution_count": 12,
   "metadata": {},
   "outputs": [
    {
     "name": "stdout",
     "output_type": "stream",
     "text": [
      "Frankenstein Smith\n"
     ]
    }
   ],
   "source": [
    "frank.name = \"Frankenstein Smith\"\n",
    "print(frank.name)"
   ]
  },
  {
   "cell_type": "code",
   "execution_count": 13,
   "metadata": {},
   "outputs": [],
   "source": [
    "class Basket:\n",
    "    def __init__(self):\n",
    "        self.products = []   # <-- empty list! \n",
    "        \n",
    "    # there will be more stuff here (methods), I'm hiding them for now for simplicity "
   ]
  },
  {
   "cell_type": "markdown",
   "metadata": {},
   "source": [
    "----"
   ]
  },
  {
   "cell_type": "markdown",
   "metadata": {},
   "source": [
    "### Understanding self"
   ]
  },
  {
   "cell_type": "markdown",
   "metadata": {},
   "source": [
    "Ok, let's deal with `self`, the elephant in the room. It would be `self`ish not to (I'm so sorry.)\n",
    "\n",
    "Before we jump into it, consider the following example:"
   ]
  },
  {
   "cell_type": "code",
   "execution_count": 14,
   "metadata": {},
   "outputs": [
    {
     "name": "stdout",
     "output_type": "stream",
     "text": [
      "24\n"
     ]
    }
   ],
   "source": [
    "# Create a class for Person \n",
    "class Person:\n",
    "    def __init__(self, name, age):\n",
    "        self.name = name \n",
    "        self.age = age\n",
    "        \n",
    "amy = Person(name='Amy Malkovich', age=24)\n",
    "\n",
    "print(amy.age)"
   ]
  },
  {
   "cell_type": "code",
   "execution_count": 1,
   "metadata": {
    "ExecuteTime": {
     "end_time": "2020-05-20T16:17:57.997679Z",
     "start_time": "2020-05-20T16:17:57.992710Z"
    }
   },
   "outputs": [],
   "source": [
    "# Create a class for Person \n",
    "class Person:\n",
    "    def __init__(self, name, age):\n",
    "        self.name = name \n",
    "        self.age = age\n",
    "        \n",
    "amy = Person(name='Amy Malkovich', age=24)\n",
    "john = Person(name='John Malkovich', age=57)"
   ]
  },
  {
   "cell_type": "markdown",
   "metadata": {},
   "source": [
    "### Understanding instance methods "
   ]
  },
  {
   "cell_type": "code",
   "execution_count": 17,
   "metadata": {},
   "outputs": [],
   "source": [
    "class Person:\n",
    "    def __init__(self, name, age):\n",
    "        self.name = name \n",
    "        self.age = age\n",
    "    \n",
    "    def celebrate_birthday(self):\n",
    "        self.age += 1  # increase the person's age by 1 "
   ]
  },
  {
   "cell_type": "code",
   "execution_count": 19,
   "metadata": {},
   "outputs": [],
   "source": [
    "class Basket:\n",
    "    def __init__(self):\n",
    "        self.products = []   \n",
    "        \n",
    "    def add_item_to_basket(item):  # <-- oh no! I forgot self! \n",
    "        self.products.append(item)  # <-- wait, what do you mean \"self\"? "
   ]
  },
  {
   "cell_type": "code",
   "execution_count": 20,
   "metadata": {},
   "outputs": [
    {
     "name": "stdout",
     "output_type": "stream",
     "text": [
      "Oh no! This failed! Here is the error: \n",
      "   add_item_to_basket() takes 1 positional argument but 2 were given\n"
     ]
    }
   ],
   "source": [
    "my_basket = Basket()\n",
    "# note: don't worry about the try/except, it's just that we're doing something that will fail\n",
    "try:    # \n",
    "    my_basket.add_item_to_basket(apple)\n",
    "except TypeError as e: \n",
    "    print('Oh no! This failed! Here is the error: \\n   {0}'.format(e))"
   ]
  },
  {
   "cell_type": "code",
   "execution_count": 21,
   "metadata": {},
   "outputs": [],
   "source": [
    "class Basket:\n",
    "    def __init__(self):\n",
    "        self.products = []   \n",
    "        \n",
    "    def add_item_to_basket(self, item):  # <-- this time with self \n",
    "        self.products.append(item)\n",
    "        \n",
    "my_basket = Basket()\n",
    "my_basket.add_item_to_basket(apple)"
   ]
  },
  {
   "cell_type": "code",
   "execution_count": 1,
   "metadata": {},
   "outputs": [],
   "source": [
    "def celebrate_birthday_simple(some_person):  # <-- normal function \n",
    "    some_person.age += 1   \n",
    "    return some_person                  \n",
    "\n",
    "class Person:\n",
    "    def __init__(self, name, age):\n",
    "        self.name = name \n",
    "        self.age = age    \n",
    "    def celebrate_birthday(self):   # <-- using an instance method\n",
    "        self.age += 1  \n",
    "        # no need to return, because we've already altered self! "
   ]
  },
  {
   "cell_type": "markdown",
   "metadata": {},
   "source": [
    "-----"
   ]
  },
  {
   "cell_type": "code",
   "execution_count": 23,
   "metadata": {},
   "outputs": [],
   "source": [
    "class Basket:\n",
    "    def __init__(self):\n",
    "        self.content = []\n",
    "\n",
    "    def add_item(self, item):\n",
    "        self.content.append(item)\n",
    "\n",
    "    def check_total_price(self):\n",
    "        total_price = 0\n",
    "        for item in self.content:\n",
    "            total_price += item.calculate_price()\n",
    "        print('The total price is {0}'.format(total_price))\n",
    "        \n",
    "    def describe_every_item(self):\n",
    "        for item in self.content:\n",
    "            # print some info about the item \n",
    "            print('- {0} {1} (total price {2})'.format(\n",
    "                item.nr_units, item.name, item.calculate_price()))\n",
    "\n",
    "    def examine_basket(self):\n",
    "        self.check_total_price()\n",
    "        self.describe_every_item()"
   ]
  },
  {
   "cell_type": "markdown",
   "metadata": {},
   "source": [
    "-----"
   ]
  }
 ],
 "metadata": {
  "kernelspec": {
   "display_name": "Python 3",
   "language": "python",
   "name": "python3"
  },
  "language_info": {
   "codemirror_mode": {
    "name": "ipython",
    "version": 3
   },
   "file_extension": ".py",
   "mimetype": "text/x-python",
   "name": "python",
   "nbconvert_exporter": "python",
   "pygments_lexer": "ipython3",
   "version": "3.8.2"
  }
 },
 "nbformat": 4,
 "nbformat_minor": 2
}
